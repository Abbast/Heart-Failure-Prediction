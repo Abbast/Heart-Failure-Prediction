{
 "cells": [
  {
   "cell_type": "code",
   "execution_count": 1,
   "id": "attempted-cowboy",
   "metadata": {
    "_cell_guid": "b1076dfc-b9ad-4769-8c92-a6c4dae69d19",
    "_uuid": "8f2839f25d086af736a60e9eeb907d3b93b6e0e5",
    "execution": {
     "iopub.execute_input": "2021-07-05T00:01:07.061012Z",
     "iopub.status.busy": "2021-07-05T00:01:07.059938Z",
     "iopub.status.idle": "2021-07-05T00:01:07.075648Z",
     "shell.execute_reply": "2021-07-05T00:01:07.076044Z",
     "shell.execute_reply.started": "2021-07-04T23:43:27.923773Z"
    },
    "papermill": {
     "duration": 0.046408,
     "end_time": "2021-07-05T00:01:07.076271",
     "exception": false,
     "start_time": "2021-07-05T00:01:07.029863",
     "status": "completed"
    },
    "tags": []
   },
   "outputs": [
    {
     "name": "stdout",
     "output_type": "stream",
     "text": [
      "/kaggle/input/heart-failure-clinical-data/heart_failure_clinical_records_dataset.csv\n"
     ]
    }
   ],
   "source": [
    "# This Python 3 environment comes with many helpful analytics libraries installed\n",
    "# It is defined by the kaggle/python Docker image: https://github.com/kaggle/docker-python\n",
    "# For example, here's several helpful packages to load\n",
    "\n",
    "import numpy as np # linear algebrau.\n",
    "import pandas as pd # data processing, CSV file I/O (e.g. pd.read_csv)\n",
    "\n",
    "# Input data files are available in the read-only \"../input/\" directory\n",
    "# For example, running this (by clicking run or pressing Shift+Enter) will list all files under the input directory\n",
    "\n",
    "import os\n",
    "for dirname, _, filenames in os.walk('/kaggle/input'):\n",
    "    for filename in filenames:\n",
    "        print(os.path.join(dirname, filename))\n",
    "\n",
    "# You can write up to 20GB to the current directory (/kaggle/working/) that gets preserved as output when you create a version using \"Save & Run All\" \n",
    "# You can also write temporary files to /kaggle/temp/, but they won't be saved outside of the current session"
   ]
  },
  {
   "cell_type": "code",
   "execution_count": 2,
   "id": "intensive-greensboro",
   "metadata": {
    "execution": {
     "iopub.execute_input": "2021-07-05T00:01:07.129549Z",
     "iopub.status.busy": "2021-07-05T00:01:07.128932Z",
     "iopub.status.idle": "2021-07-05T00:01:07.873870Z",
     "shell.execute_reply": "2021-07-05T00:01:07.873368Z",
     "shell.execute_reply.started": "2021-07-04T23:43:27.948034Z"
    },
    "papermill": {
     "duration": 0.771914,
     "end_time": "2021-07-05T00:01:07.873992",
     "exception": false,
     "start_time": "2021-07-05T00:01:07.102078",
     "status": "completed"
    },
    "tags": []
   },
   "outputs": [
    {
     "data": {
      "text/html": [
       "<div>\n",
       "<style scoped>\n",
       "    .dataframe tbody tr th:only-of-type {\n",
       "        vertical-align: middle;\n",
       "    }\n",
       "\n",
       "    .dataframe tbody tr th {\n",
       "        vertical-align: top;\n",
       "    }\n",
       "\n",
       "    .dataframe thead th {\n",
       "        text-align: right;\n",
       "    }\n",
       "</style>\n",
       "<table border=\"1\" class=\"dataframe\">\n",
       "  <thead>\n",
       "    <tr style=\"text-align: right;\">\n",
       "      <th></th>\n",
       "      <th>age</th>\n",
       "      <th>anaemia</th>\n",
       "      <th>creatinine_phosphokinase</th>\n",
       "      <th>diabetes</th>\n",
       "      <th>ejection_fraction</th>\n",
       "      <th>high_blood_pressure</th>\n",
       "      <th>platelets</th>\n",
       "      <th>serum_creatinine</th>\n",
       "      <th>serum_sodium</th>\n",
       "      <th>sex</th>\n",
       "      <th>smoking</th>\n",
       "      <th>time</th>\n",
       "      <th>DEATH_EVENT</th>\n",
       "    </tr>\n",
       "  </thead>\n",
       "  <tbody>\n",
       "    <tr>\n",
       "      <th>0</th>\n",
       "      <td>75.0</td>\n",
       "      <td>0</td>\n",
       "      <td>582</td>\n",
       "      <td>0</td>\n",
       "      <td>20</td>\n",
       "      <td>1</td>\n",
       "      <td>265000.00</td>\n",
       "      <td>1.9</td>\n",
       "      <td>130</td>\n",
       "      <td>1</td>\n",
       "      <td>0</td>\n",
       "      <td>4</td>\n",
       "      <td>1</td>\n",
       "    </tr>\n",
       "    <tr>\n",
       "      <th>1</th>\n",
       "      <td>55.0</td>\n",
       "      <td>0</td>\n",
       "      <td>7861</td>\n",
       "      <td>0</td>\n",
       "      <td>38</td>\n",
       "      <td>0</td>\n",
       "      <td>263358.03</td>\n",
       "      <td>1.1</td>\n",
       "      <td>136</td>\n",
       "      <td>1</td>\n",
       "      <td>0</td>\n",
       "      <td>6</td>\n",
       "      <td>1</td>\n",
       "    </tr>\n",
       "    <tr>\n",
       "      <th>2</th>\n",
       "      <td>65.0</td>\n",
       "      <td>0</td>\n",
       "      <td>146</td>\n",
       "      <td>0</td>\n",
       "      <td>20</td>\n",
       "      <td>0</td>\n",
       "      <td>162000.00</td>\n",
       "      <td>1.3</td>\n",
       "      <td>129</td>\n",
       "      <td>1</td>\n",
       "      <td>1</td>\n",
       "      <td>7</td>\n",
       "      <td>1</td>\n",
       "    </tr>\n",
       "    <tr>\n",
       "      <th>3</th>\n",
       "      <td>50.0</td>\n",
       "      <td>1</td>\n",
       "      <td>111</td>\n",
       "      <td>0</td>\n",
       "      <td>20</td>\n",
       "      <td>0</td>\n",
       "      <td>210000.00</td>\n",
       "      <td>1.9</td>\n",
       "      <td>137</td>\n",
       "      <td>1</td>\n",
       "      <td>0</td>\n",
       "      <td>7</td>\n",
       "      <td>1</td>\n",
       "    </tr>\n",
       "    <tr>\n",
       "      <th>4</th>\n",
       "      <td>65.0</td>\n",
       "      <td>1</td>\n",
       "      <td>160</td>\n",
       "      <td>1</td>\n",
       "      <td>20</td>\n",
       "      <td>0</td>\n",
       "      <td>327000.00</td>\n",
       "      <td>2.7</td>\n",
       "      <td>116</td>\n",
       "      <td>0</td>\n",
       "      <td>0</td>\n",
       "      <td>8</td>\n",
       "      <td>1</td>\n",
       "    </tr>\n",
       "  </tbody>\n",
       "</table>\n",
       "</div>"
      ],
      "text/plain": [
       "    age  anaemia  creatinine_phosphokinase  diabetes  ejection_fraction  \\\n",
       "0  75.0        0                       582         0                 20   \n",
       "1  55.0        0                      7861         0                 38   \n",
       "2  65.0        0                       146         0                 20   \n",
       "3  50.0        1                       111         0                 20   \n",
       "4  65.0        1                       160         1                 20   \n",
       "\n",
       "   high_blood_pressure  platelets  serum_creatinine  serum_sodium  sex  \\\n",
       "0                    1  265000.00               1.9           130    1   \n",
       "1                    0  263358.03               1.1           136    1   \n",
       "2                    0  162000.00               1.3           129    1   \n",
       "3                    0  210000.00               1.9           137    1   \n",
       "4                    0  327000.00               2.7           116    0   \n",
       "\n",
       "   smoking  time  DEATH_EVENT  \n",
       "0        0     4            1  \n",
       "1        0     6            1  \n",
       "2        1     7            1  \n",
       "3        0     7            1  \n",
       "4        0     8            1  "
      ]
     },
     "execution_count": 2,
     "metadata": {},
     "output_type": "execute_result"
    }
   ],
   "source": [
    "# More imports\n",
    "\n",
    "import scipy\n",
    "from scipy import stats\n",
    "import matplotlib.pyplot as plt\n",
    "%matplotlib inline\n",
    "\n",
    "# Read in the data to a dataframe\n",
    "\n",
    "heart_failure = pd.read_csv(\"/kaggle/input/heart-failure-clinical-data/heart_failure_clinical_records_dataset.csv\")\n",
    "\n",
    "# Display the first 5 rows\n",
    "\n",
    "heart_failure.head(5)"
   ]
  },
  {
   "cell_type": "markdown",
   "id": "valid-burton",
   "metadata": {
    "papermill": {
     "duration": 0.027017,
     "end_time": "2021-07-05T00:01:07.927778",
     "exception": false,
     "start_time": "2021-07-05T00:01:07.900761",
     "status": "completed"
    },
    "tags": []
   },
   "source": [
    "# Description of the Features\n",
    "\n",
    "* Age: age of the patient\n",
    "* Anaemia: decrease of red blood cells or hemoglobin\n",
    "    \n",
    "    0 = `no`, 1 = `yes`\n",
    "* Creatinine_phosphokinase: Level of the CPK enzyme in the blood (mcg/L)\n",
    "* Diabetes: If the patient has diabetes\n",
    "    \n",
    "    0 = `no`, 1 = `yes`\n",
    "* Ejection_fraction: Percentage of blood leaving the heart at each contraction (percentage)\n",
    "* High_blood_pressure: If the patient has hypertension\n",
    "* Platelets: Platelets in the blood (kiloplatelets/mL)\n",
    "* Serum_creatinine: Level of serum creatinine in the blood (mg/dL)\n",
    "* Serum_sodium: Level of serum sodium in the blood (mg/dL)\n",
    "* Sex: Gender of the patient \n",
    "   \n",
    "   0 = `Female`, 1 = `Male`\n",
    "* Smoking: Does the patient smoke?\n",
    "    \n",
    "    0 = `no`, 1 = `yes`\n",
    "* Time: Follow-up period"
   ]
  },
  {
   "cell_type": "code",
   "execution_count": 3,
   "id": "periodic-optimum",
   "metadata": {
    "execution": {
     "iopub.execute_input": "2021-07-05T00:01:07.996550Z",
     "iopub.status.busy": "2021-07-05T00:01:07.995903Z",
     "iopub.status.idle": "2021-07-05T00:01:07.999266Z",
     "shell.execute_reply": "2021-07-05T00:01:07.998672Z",
     "shell.execute_reply.started": "2021-07-04T23:43:28.321497Z"
    },
    "papermill": {
     "duration": 0.046179,
     "end_time": "2021-07-05T00:01:07.999396",
     "exception": false,
     "start_time": "2021-07-05T00:01:07.953217",
     "status": "completed"
    },
    "tags": []
   },
   "outputs": [
    {
     "name": "stdout",
     "output_type": "stream",
     "text": [
      "<class 'pandas.core.frame.DataFrame'>\n",
      "RangeIndex: 299 entries, 0 to 298\n",
      "Data columns (total 13 columns):\n",
      " #   Column                    Non-Null Count  Dtype  \n",
      "---  ------                    --------------  -----  \n",
      " 0   age                       299 non-null    float64\n",
      " 1   anaemia                   299 non-null    int64  \n",
      " 2   creatinine_phosphokinase  299 non-null    int64  \n",
      " 3   diabetes                  299 non-null    int64  \n",
      " 4   ejection_fraction         299 non-null    int64  \n",
      " 5   high_blood_pressure       299 non-null    int64  \n",
      " 6   platelets                 299 non-null    float64\n",
      " 7   serum_creatinine          299 non-null    float64\n",
      " 8   serum_sodium              299 non-null    int64  \n",
      " 9   sex                       299 non-null    int64  \n",
      " 10  smoking                   299 non-null    int64  \n",
      " 11  time                      299 non-null    int64  \n",
      " 12  DEATH_EVENT               299 non-null    int64  \n",
      "dtypes: float64(3), int64(10)\n",
      "memory usage: 30.5 KB\n"
     ]
    }
   ],
   "source": [
    "# Display information about the dataset\n",
    "\n",
    "heart_failure.info()"
   ]
  },
  {
   "cell_type": "markdown",
   "id": "owned-argentina",
   "metadata": {
    "papermill": {
     "duration": 0.025536,
     "end_time": "2021-07-05T00:01:08.051020",
     "exception": false,
     "start_time": "2021-07-05T00:01:08.025484",
     "status": "completed"
    },
    "tags": []
   },
   "source": [
    "Alright, this dataset consists of 299 rows and 13 columns, with only numerically valued entries. Furthermore, there don't appear to be any missing values that we'll need to address"
   ]
  },
  {
   "cell_type": "code",
   "execution_count": 4,
   "id": "gorgeous-mixture",
   "metadata": {
    "execution": {
     "iopub.execute_input": "2021-07-05T00:01:08.109038Z",
     "iopub.status.busy": "2021-07-05T00:01:08.108437Z",
     "iopub.status.idle": "2021-07-05T00:01:08.151151Z",
     "shell.execute_reply": "2021-07-05T00:01:08.150721Z",
     "shell.execute_reply.started": "2021-07-04T23:43:28.344606Z"
    },
    "papermill": {
     "duration": 0.07488,
     "end_time": "2021-07-05T00:01:08.151280",
     "exception": false,
     "start_time": "2021-07-05T00:01:08.076400",
     "status": "completed"
    },
    "tags": []
   },
   "outputs": [
    {
     "data": {
      "text/html": [
       "<div>\n",
       "<style scoped>\n",
       "    .dataframe tbody tr th:only-of-type {\n",
       "        vertical-align: middle;\n",
       "    }\n",
       "\n",
       "    .dataframe tbody tr th {\n",
       "        vertical-align: top;\n",
       "    }\n",
       "\n",
       "    .dataframe thead th {\n",
       "        text-align: right;\n",
       "    }\n",
       "</style>\n",
       "<table border=\"1\" class=\"dataframe\">\n",
       "  <thead>\n",
       "    <tr style=\"text-align: right;\">\n",
       "      <th></th>\n",
       "      <th>age</th>\n",
       "      <th>anaemia</th>\n",
       "      <th>creatinine_phosphokinase</th>\n",
       "      <th>diabetes</th>\n",
       "      <th>ejection_fraction</th>\n",
       "      <th>high_blood_pressure</th>\n",
       "      <th>platelets</th>\n",
       "      <th>serum_creatinine</th>\n",
       "      <th>serum_sodium</th>\n",
       "      <th>sex</th>\n",
       "      <th>smoking</th>\n",
       "      <th>time</th>\n",
       "      <th>DEATH_EVENT</th>\n",
       "    </tr>\n",
       "  </thead>\n",
       "  <tbody>\n",
       "    <tr>\n",
       "      <th>count</th>\n",
       "      <td>299.000000</td>\n",
       "      <td>299.000000</td>\n",
       "      <td>299.000000</td>\n",
       "      <td>299.000000</td>\n",
       "      <td>299.000000</td>\n",
       "      <td>299.000000</td>\n",
       "      <td>299.000000</td>\n",
       "      <td>299.00000</td>\n",
       "      <td>299.000000</td>\n",
       "      <td>299.000000</td>\n",
       "      <td>299.00000</td>\n",
       "      <td>299.000000</td>\n",
       "      <td>299.00000</td>\n",
       "    </tr>\n",
       "    <tr>\n",
       "      <th>mean</th>\n",
       "      <td>60.833893</td>\n",
       "      <td>0.431438</td>\n",
       "      <td>581.839465</td>\n",
       "      <td>0.418060</td>\n",
       "      <td>38.083612</td>\n",
       "      <td>0.351171</td>\n",
       "      <td>263358.029264</td>\n",
       "      <td>1.39388</td>\n",
       "      <td>136.625418</td>\n",
       "      <td>0.648829</td>\n",
       "      <td>0.32107</td>\n",
       "      <td>130.260870</td>\n",
       "      <td>0.32107</td>\n",
       "    </tr>\n",
       "    <tr>\n",
       "      <th>std</th>\n",
       "      <td>11.894809</td>\n",
       "      <td>0.496107</td>\n",
       "      <td>970.287881</td>\n",
       "      <td>0.494067</td>\n",
       "      <td>11.834841</td>\n",
       "      <td>0.478136</td>\n",
       "      <td>97804.236869</td>\n",
       "      <td>1.03451</td>\n",
       "      <td>4.412477</td>\n",
       "      <td>0.478136</td>\n",
       "      <td>0.46767</td>\n",
       "      <td>77.614208</td>\n",
       "      <td>0.46767</td>\n",
       "    </tr>\n",
       "    <tr>\n",
       "      <th>min</th>\n",
       "      <td>40.000000</td>\n",
       "      <td>0.000000</td>\n",
       "      <td>23.000000</td>\n",
       "      <td>0.000000</td>\n",
       "      <td>14.000000</td>\n",
       "      <td>0.000000</td>\n",
       "      <td>25100.000000</td>\n",
       "      <td>0.50000</td>\n",
       "      <td>113.000000</td>\n",
       "      <td>0.000000</td>\n",
       "      <td>0.00000</td>\n",
       "      <td>4.000000</td>\n",
       "      <td>0.00000</td>\n",
       "    </tr>\n",
       "    <tr>\n",
       "      <th>25%</th>\n",
       "      <td>51.000000</td>\n",
       "      <td>0.000000</td>\n",
       "      <td>116.500000</td>\n",
       "      <td>0.000000</td>\n",
       "      <td>30.000000</td>\n",
       "      <td>0.000000</td>\n",
       "      <td>212500.000000</td>\n",
       "      <td>0.90000</td>\n",
       "      <td>134.000000</td>\n",
       "      <td>0.000000</td>\n",
       "      <td>0.00000</td>\n",
       "      <td>73.000000</td>\n",
       "      <td>0.00000</td>\n",
       "    </tr>\n",
       "    <tr>\n",
       "      <th>50%</th>\n",
       "      <td>60.000000</td>\n",
       "      <td>0.000000</td>\n",
       "      <td>250.000000</td>\n",
       "      <td>0.000000</td>\n",
       "      <td>38.000000</td>\n",
       "      <td>0.000000</td>\n",
       "      <td>262000.000000</td>\n",
       "      <td>1.10000</td>\n",
       "      <td>137.000000</td>\n",
       "      <td>1.000000</td>\n",
       "      <td>0.00000</td>\n",
       "      <td>115.000000</td>\n",
       "      <td>0.00000</td>\n",
       "    </tr>\n",
       "    <tr>\n",
       "      <th>75%</th>\n",
       "      <td>70.000000</td>\n",
       "      <td>1.000000</td>\n",
       "      <td>582.000000</td>\n",
       "      <td>1.000000</td>\n",
       "      <td>45.000000</td>\n",
       "      <td>1.000000</td>\n",
       "      <td>303500.000000</td>\n",
       "      <td>1.40000</td>\n",
       "      <td>140.000000</td>\n",
       "      <td>1.000000</td>\n",
       "      <td>1.00000</td>\n",
       "      <td>203.000000</td>\n",
       "      <td>1.00000</td>\n",
       "    </tr>\n",
       "    <tr>\n",
       "      <th>max</th>\n",
       "      <td>95.000000</td>\n",
       "      <td>1.000000</td>\n",
       "      <td>7861.000000</td>\n",
       "      <td>1.000000</td>\n",
       "      <td>80.000000</td>\n",
       "      <td>1.000000</td>\n",
       "      <td>850000.000000</td>\n",
       "      <td>9.40000</td>\n",
       "      <td>148.000000</td>\n",
       "      <td>1.000000</td>\n",
       "      <td>1.00000</td>\n",
       "      <td>285.000000</td>\n",
       "      <td>1.00000</td>\n",
       "    </tr>\n",
       "  </tbody>\n",
       "</table>\n",
       "</div>"
      ],
      "text/plain": [
       "              age     anaemia  creatinine_phosphokinase    diabetes  \\\n",
       "count  299.000000  299.000000                299.000000  299.000000   \n",
       "mean    60.833893    0.431438                581.839465    0.418060   \n",
       "std     11.894809    0.496107                970.287881    0.494067   \n",
       "min     40.000000    0.000000                 23.000000    0.000000   \n",
       "25%     51.000000    0.000000                116.500000    0.000000   \n",
       "50%     60.000000    0.000000                250.000000    0.000000   \n",
       "75%     70.000000    1.000000                582.000000    1.000000   \n",
       "max     95.000000    1.000000               7861.000000    1.000000   \n",
       "\n",
       "       ejection_fraction  high_blood_pressure      platelets  \\\n",
       "count         299.000000           299.000000     299.000000   \n",
       "mean           38.083612             0.351171  263358.029264   \n",
       "std            11.834841             0.478136   97804.236869   \n",
       "min            14.000000             0.000000   25100.000000   \n",
       "25%            30.000000             0.000000  212500.000000   \n",
       "50%            38.000000             0.000000  262000.000000   \n",
       "75%            45.000000             1.000000  303500.000000   \n",
       "max            80.000000             1.000000  850000.000000   \n",
       "\n",
       "       serum_creatinine  serum_sodium         sex    smoking        time  \\\n",
       "count         299.00000    299.000000  299.000000  299.00000  299.000000   \n",
       "mean            1.39388    136.625418    0.648829    0.32107  130.260870   \n",
       "std             1.03451      4.412477    0.478136    0.46767   77.614208   \n",
       "min             0.50000    113.000000    0.000000    0.00000    4.000000   \n",
       "25%             0.90000    134.000000    0.000000    0.00000   73.000000   \n",
       "50%             1.10000    137.000000    1.000000    0.00000  115.000000   \n",
       "75%             1.40000    140.000000    1.000000    1.00000  203.000000   \n",
       "max             9.40000    148.000000    1.000000    1.00000  285.000000   \n",
       "\n",
       "       DEATH_EVENT  \n",
       "count    299.00000  \n",
       "mean       0.32107  \n",
       "std        0.46767  \n",
       "min        0.00000  \n",
       "25%        0.00000  \n",
       "50%        0.00000  \n",
       "75%        1.00000  \n",
       "max        1.00000  "
      ]
     },
     "execution_count": 4,
     "metadata": {},
     "output_type": "execute_result"
    }
   ],
   "source": [
    "# Obtain a basic statistical description for the dataset\n",
    "\n",
    "heart_failure.describe()"
   ]
  },
  {
   "cell_type": "markdown",
   "id": "controlling-birth",
   "metadata": {
    "papermill": {
     "duration": 0.02673,
     "end_time": "2021-07-05T00:01:08.204453",
     "exception": false,
     "start_time": "2021-07-05T00:01:08.177723",
     "status": "completed"
    },
    "tags": []
   },
   "source": [
    "Based off of the standard deviation, $75^{\\text{th}}-$percentile, and the maximum value, the following variables have outliers that we will need to address:\n",
    "\n",
    "1. `creatinine_phosphokinase`\n",
    "2. `ejection_fraction`\n",
    "3. `platelets`\n",
    "4. `serum_creatinine`\n",
    "\n",
    "There are two possible treatments: winsorization or removal by z-score. For sake of completeness of the dataset, we will opt to winsorize the data since it will limit the extreme values. But first, we will generate plots for the data."
   ]
  },
  {
   "cell_type": "code",
   "execution_count": 5,
   "id": "eight-interest",
   "metadata": {
    "execution": {
     "iopub.execute_input": "2021-07-05T00:01:08.281747Z",
     "iopub.status.busy": "2021-07-05T00:01:08.266907Z",
     "iopub.status.idle": "2021-07-05T00:01:09.133104Z",
     "shell.execute_reply": "2021-07-05T00:01:09.132648Z",
     "shell.execute_reply.started": "2021-07-04T23:43:28.401906Z"
    },
    "papermill": {
     "duration": 0.901706,
     "end_time": "2021-07-05T00:01:09.133227",
     "exception": false,
     "start_time": "2021-07-05T00:01:08.231521",
     "status": "completed"
    },
    "tags": []
   },
   "outputs": [
    {
     "data": {
      "image/png": "[encoded data removed]",
      "text/plain": [
       "<Figure size 720x432 with 7 Axes>"
      ]
     },
     "metadata": {
      "needs_background": "light"
     },
     "output_type": "display_data"
    }
   ],
   "source": [
    "# Plot histograms of the continuous features\n",
    "\n",
    "continuous = []\n",
    "\n",
    "for col in heart_failure.columns:\n",
    "    \n",
    "    if heart_failure[col].nunique() > 10:\n",
    "        \n",
    "        continuous.append(col)\n",
    "        \n",
    "plt.figure(figsize = (10,6)) \n",
    "c = 1\n",
    "\n",
    "for col in continuous:\n",
    "    \n",
    "    plt.subplot(2,4,c)\n",
    "    plt.hist(heart_failure[col])\n",
    "    plt.title(\"Histogram: \\n{}\".format(col))\n",
    "    \n",
    "    c = c + 1\n",
    "    \n",
    "plt.tight_layout()\n",
    "plt.show()"
   ]
  },
  {
   "cell_type": "markdown",
   "id": "particular-discretion",
   "metadata": {
    "papermill": {
     "duration": 0.026809,
     "end_time": "2021-07-05T00:01:09.187373",
     "exception": false,
     "start_time": "2021-07-05T00:01:09.160564",
     "status": "completed"
    },
    "tags": []
   },
   "source": [
    "It is evident that none of these features are normally distributed; they all exhibit some skew or aren't even normally distributed."
   ]
  },
  {
   "cell_type": "code",
   "execution_count": 6,
   "id": "antique-collaboration",
   "metadata": {
    "execution": {
     "iopub.execute_input": "2021-07-05T00:01:09.249176Z",
     "iopub.status.busy": "2021-07-05T00:01:09.248653Z",
     "iopub.status.idle": "2021-07-05T00:01:09.251860Z",
     "shell.execute_reply": "2021-07-05T00:01:09.252311Z",
     "shell.execute_reply.started": "2021-07-04T23:43:29.389320Z"
    },
    "papermill": {
     "duration": 0.03814,
     "end_time": "2021-07-05T00:01:09.252463",
     "exception": false,
     "start_time": "2021-07-05T00:01:09.214323",
     "status": "completed"
    },
    "tags": []
   },
   "outputs": [],
   "source": [
    "# Winsorize the aforementioned variables\n",
    "\n",
    "from scipy.stats.mstats import winsorize\n",
    "\n",
    "# Make a copy of the dataframe to apply modifications to \n",
    "\n",
    "heart = heart_failure.copy()\n",
    "\n",
    "# Apply one-way winsorization to the either the 90th or 95th percentile\n",
    "heart['winsorized_creatinine_phosphokinase'] = winsorize(heart['creatinine_phosphokinase'], [0, 0.1])\n",
    "heart['winsorized_ejection_fraction'] = winsorize(heart['ejection_fraction'], [0, 0.05])\n",
    "heart['winsorized_platelets'] = winsorize(heart['platelets'], [0, 0.1])\n",
    "heart['winsorized_serum_creatinine'] = winsorize(heart['serum_creatinine'], [0, 0.1])"
   ]
  },
  {
   "cell_type": "code",
   "execution_count": 7,
   "id": "considerable-knock",
   "metadata": {
    "execution": {
     "iopub.execute_input": "2021-07-05T00:01:09.324325Z",
     "iopub.status.busy": "2021-07-05T00:01:09.323633Z",
     "iopub.status.idle": "2021-07-05T00:01:09.353007Z",
     "shell.execute_reply": "2021-07-05T00:01:09.353491Z",
     "shell.execute_reply.started": "2021-07-04T23:43:29.403652Z"
    },
    "papermill": {
     "duration": 0.066873,
     "end_time": "2021-07-05T00:01:09.353656",
     "exception": false,
     "start_time": "2021-07-05T00:01:09.286783",
     "status": "completed"
    },
    "tags": []
   },
   "outputs": [
    {
     "data": {
      "text/html": [
       "<div>\n",
       "<style scoped>\n",
       "    .dataframe tbody tr th:only-of-type {\n",
       "        vertical-align: middle;\n",
       "    }\n",
       "\n",
       "    .dataframe tbody tr th {\n",
       "        vertical-align: top;\n",
       "    }\n",
       "\n",
       "    .dataframe thead th {\n",
       "        text-align: right;\n",
       "    }\n",
       "</style>\n",
       "<table border=\"1\" class=\"dataframe\">\n",
       "  <thead>\n",
       "    <tr style=\"text-align: right;\">\n",
       "      <th></th>\n",
       "      <th>winsorized_creatinine_phosphokinase</th>\n",
       "      <th>winsorized_ejection_fraction</th>\n",
       "      <th>winsorized_platelets</th>\n",
       "      <th>winsorized_serum_creatinine</th>\n",
       "    </tr>\n",
       "  </thead>\n",
       "  <tbody>\n",
       "    <tr>\n",
       "      <th>count</th>\n",
       "      <td>299.000000</td>\n",
       "      <td>299.000000</td>\n",
       "      <td>299.000000</td>\n",
       "      <td>299.000000</td>\n",
       "    </tr>\n",
       "    <tr>\n",
       "      <th>mean</th>\n",
       "      <td>417.498328</td>\n",
       "      <td>37.953177</td>\n",
       "      <td>254675.755017</td>\n",
       "      <td>1.229666</td>\n",
       "    </tr>\n",
       "    <tr>\n",
       "      <th>std</th>\n",
       "      <td>370.748973</td>\n",
       "      <td>11.511789</td>\n",
       "      <td>74911.468807</td>\n",
       "      <td>0.430112</td>\n",
       "    </tr>\n",
       "    <tr>\n",
       "      <th>min</th>\n",
       "      <td>23.000000</td>\n",
       "      <td>14.000000</td>\n",
       "      <td>25100.000000</td>\n",
       "      <td>0.500000</td>\n",
       "    </tr>\n",
       "    <tr>\n",
       "      <th>25%</th>\n",
       "      <td>116.500000</td>\n",
       "      <td>30.000000</td>\n",
       "      <td>212500.000000</td>\n",
       "      <td>0.900000</td>\n",
       "    </tr>\n",
       "    <tr>\n",
       "      <th>50%</th>\n",
       "      <td>250.000000</td>\n",
       "      <td>38.000000</td>\n",
       "      <td>262000.000000</td>\n",
       "      <td>1.100000</td>\n",
       "    </tr>\n",
       "    <tr>\n",
       "      <th>75%</th>\n",
       "      <td>582.000000</td>\n",
       "      <td>45.000000</td>\n",
       "      <td>303500.000000</td>\n",
       "      <td>1.400000</td>\n",
       "    </tr>\n",
       "    <tr>\n",
       "      <th>max</th>\n",
       "      <td>1211.000000</td>\n",
       "      <td>60.000000</td>\n",
       "      <td>377000.000000</td>\n",
       "      <td>2.100000</td>\n",
       "    </tr>\n",
       "  </tbody>\n",
       "</table>\n",
       "</div>"
      ],
      "text/plain": [
       "       winsorized_creatinine_phosphokinase  winsorized_ejection_fraction  \\\n",
       "count                           299.000000                    299.000000   \n",
       "mean                            417.498328                     37.953177   \n",
       "std                             370.748973                     11.511789   \n",
       "min                              23.000000                     14.000000   \n",
       "25%                             116.500000                     30.000000   \n",
       "50%                             250.000000                     38.000000   \n",
       "75%                             582.000000                     45.000000   \n",
       "max                            1211.000000                     60.000000   \n",
       "\n",
       "       winsorized_platelets  winsorized_serum_creatinine  \n",
       "count            299.000000                   299.000000  \n",
       "mean          254675.755017                     1.229666  \n",
       "std            74911.468807                     0.430112  \n",
       "min            25100.000000                     0.500000  \n",
       "25%           212500.000000                     0.900000  \n",
       "50%           262000.000000                     1.100000  \n",
       "75%           303500.000000                     1.400000  \n",
       "max           377000.000000                     2.100000  "
      ]
     },
     "execution_count": 7,
     "metadata": {},
     "output_type": "execute_result"
    }
   ],
   "source": [
    "# Check for outliers in the winsorized variables\n",
    "heart[['winsorized_creatinine_phosphokinase', 'winsorized_ejection_fraction', \n",
    "       'winsorized_platelets', 'winsorized_serum_creatinine']].describe()"
   ]
  },
  {
   "cell_type": "markdown",
   "id": "characteristic-mississippi",
   "metadata": {
    "papermill": {
     "duration": 0.028299,
     "end_time": "2021-07-05T00:01:09.414405",
     "exception": false,
     "start_time": "2021-07-05T00:01:09.386106",
     "status": "completed"
    },
    "tags": []
   },
   "source": [
    "This is much more workable than previously, so we can proceed further to the feature engineering phase. First, we'll examine the number of unique entries per variable to get a better sense of the dataset.\n"
   ]
  },
  {
   "cell_type": "code",
   "execution_count": 8,
   "id": "broke-congress",
   "metadata": {
    "execution": {
     "iopub.execute_input": "2021-07-05T00:01:09.480890Z",
     "iopub.status.busy": "2021-07-05T00:01:09.479955Z",
     "iopub.status.idle": "2021-07-05T00:01:09.487553Z",
     "shell.execute_reply": "2021-07-05T00:01:09.488025Z",
     "shell.execute_reply.started": "2021-07-04T23:43:29.434485Z"
    },
    "papermill": {
     "duration": 0.044806,
     "end_time": "2021-07-05T00:01:09.488164",
     "exception": false,
     "start_time": "2021-07-05T00:01:09.443358",
     "status": "completed"
    },
    "tags": []
   },
   "outputs": [
    {
     "name": "stdout",
     "output_type": "stream",
     "text": [
      "Number of unique values for age:  47\n",
      "Number of unique values for anaemia:  2\n",
      "Number of unique values for diabetes:  2\n",
      "Number of unique values for high_blood_pressure:  2\n",
      "Number of unique values for serum_sodium:  27\n",
      "Number of unique values for sex:  2\n",
      "Number of unique values for smoking:  2\n",
      "Number of unique values for time:  148\n",
      "Number of unique values for DEATH_EVENT:  2\n",
      "Number of unique values for winsorized_creatinine_phosphokinase:  179\n",
      "Number of unique values for winsorized_ejection_fraction:  13\n",
      "Number of unique values for winsorized_platelets:  152\n",
      "Number of unique values for winsorized_serum_creatinine:  20\n"
     ]
    }
   ],
   "source": [
    "# Compute the number of unique values for each variable\n",
    "\n",
    "for column in heart.columns.drop(['creatinine_phosphokinase', 'ejection_fraction', 'platelets', 'serum_creatinine']):\n",
    "    \n",
    "    print(\"Number of unique values for {}: \".format(column), heart[column].nunique())"
   ]
  },
  {
   "cell_type": "markdown",
   "id": "beneficial-malaysia",
   "metadata": {
    "papermill": {
     "duration": 0.027139,
     "end_time": "2021-07-05T00:01:09.544909",
     "exception": false,
     "start_time": "2021-07-05T00:01:09.517770",
     "status": "completed"
    },
    "tags": []
   },
   "source": [
    "The following variables are binary: `anaemia`, `diabetes`, `high_blood_pressure`, `sex`,`smoking`, and our target variable `DEATH_EVENT`. This implies that we will be utilizing classification models to make predictions. In particular, we will most likely utilize support vector machines and boosting models. There is a possibility of training a random forest classifier, although this would require additional feature engineering to convert the continuous variables into a suitable form for the random forest classifier."
   ]
  },
  {
   "cell_type": "code",
   "execution_count": 9,
   "id": "manual-baker",
   "metadata": {
    "execution": {
     "iopub.execute_input": "2021-07-05T00:01:09.602602Z",
     "iopub.status.busy": "2021-07-05T00:01:09.602035Z",
     "iopub.status.idle": "2021-07-05T00:01:09.607708Z",
     "shell.execute_reply": "2021-07-05T00:01:09.608098Z",
     "shell.execute_reply.started": "2021-07-04T23:43:29.450714Z"
    },
    "papermill": {
     "duration": 0.035654,
     "end_time": "2021-07-05T00:01:09.608252",
     "exception": false,
     "start_time": "2021-07-05T00:01:09.572598",
     "status": "completed"
    },
    "tags": []
   },
   "outputs": [
    {
     "data": {
      "text/plain": [
       "0    203\n",
       "1     96\n",
       "Name: DEATH_EVENT, dtype: int64"
      ]
     },
     "execution_count": 9,
     "metadata": {},
     "output_type": "execute_result"
    }
   ],
   "source": [
    "# Check the dataset for class imbalance (or balance)\n",
    "\n",
    "heart['DEATH_EVENT'].value_counts()"
   ]
  },
  {
   "cell_type": "markdown",
   "id": "increased-dancing",
   "metadata": {
    "papermill": {
     "duration": 0.02773,
     "end_time": "2021-07-05T00:01:09.664109",
     "exception": false,
     "start_time": "2021-07-05T00:01:09.636379",
     "status": "completed"
    },
    "tags": []
   },
   "source": [
    "As the above demonstrates, the dataset exhibits class imbalance, which we will need to address. There are two approaches we can utilize:\n",
    "\n",
    "1. We oversample the minority class by creating more synthetic data (for the minority class) to match the majority class\n",
    "\n",
    "2. We undersample the majority class by removing data from the majority class to match the minority class\n",
    "\n",
    "Of the two approaches, we will opt for the former, as our dataset is relatively small; removal of data may affect the performance of any model we build"
   ]
  },
  {
   "cell_type": "code",
   "execution_count": 10,
   "id": "intermediate-skirt",
   "metadata": {
    "execution": {
     "iopub.execute_input": "2021-07-05T00:01:09.723879Z",
     "iopub.status.busy": "2021-07-05T00:01:09.723232Z",
     "iopub.status.idle": "2021-07-05T00:01:09.836914Z",
     "shell.execute_reply": "2021-07-05T00:01:09.837318Z",
     "shell.execute_reply.started": "2021-07-04T23:43:29.463051Z"
    },
    "papermill": {
     "duration": 0.145809,
     "end_time": "2021-07-05T00:01:09.837516",
     "exception": false,
     "start_time": "2021-07-05T00:01:09.691707",
     "status": "completed"
    },
    "tags": []
   },
   "outputs": [],
   "source": [
    "# Oversample the minority class\n",
    "\n",
    "from sklearn.utils import resample\n",
    "\n",
    "Ones = heart[heart.DEATH_EVENT == 1]\n",
    "Zeroes = heart[heart.DEATH_EVENT == 0]\n",
    "\n",
    "Ones_upsample = resample(Ones, replace = True,\n",
    "                          n_samples = len(Zeroes),\n",
    "                          random_state = 31)\n",
    "\n",
    "heart = pd.concat([Zeroes, Ones_upsample])"
   ]
  },
  {
   "cell_type": "code",
   "execution_count": 11,
   "id": "cross-advocate",
   "metadata": {
    "execution": {
     "iopub.execute_input": "2021-07-05T00:01:09.897107Z",
     "iopub.status.busy": "2021-07-05T00:01:09.896631Z",
     "iopub.status.idle": "2021-07-05T00:01:09.901848Z",
     "shell.execute_reply": "2021-07-05T00:01:09.902298Z",
     "shell.execute_reply.started": "2021-07-04T23:43:29.532927Z"
    },
    "papermill": {
     "duration": 0.035978,
     "end_time": "2021-07-05T00:01:09.902448",
     "exception": false,
     "start_time": "2021-07-05T00:01:09.866470",
     "status": "completed"
    },
    "tags": []
   },
   "outputs": [
    {
     "data": {
      "text/plain": [
       "0    203\n",
       "1    203\n",
       "Name: DEATH_EVENT, dtype: int64"
      ]
     },
     "execution_count": 11,
     "metadata": {},
     "output_type": "execute_result"
    }
   ],
   "source": [
    "# Re-examine the `DEATH_EVENTS` column\n",
    "heart.DEATH_EVENT.value_counts()"
   ]
  },
  {
   "cell_type": "markdown",
   "id": "medieval-partnership",
   "metadata": {
    "papermill": {
     "duration": 0.027591,
     "end_time": "2021-07-05T00:01:09.958780",
     "exception": false,
     "start_time": "2021-07-05T00:01:09.931189",
     "status": "completed"
    },
    "tags": []
   },
   "source": [
    "Now the number of zero and one class equal. We can now train our classification models, compare them to select the most accurate base model, and then tune that model's hyperparameters to increase accuracy and hopefully minimize false negatives as this is a heart failure classification (and risk prediction) problem"
   ]
  },
  {
   "cell_type": "code",
   "execution_count": 12,
   "id": "ranking-volleyball",
   "metadata": {
    "execution": {
     "iopub.execute_input": "2021-07-05T00:01:10.019322Z",
     "iopub.status.busy": "2021-07-05T00:01:10.018780Z",
     "iopub.status.idle": "2021-07-05T00:01:10.421374Z",
     "shell.execute_reply": "2021-07-05T00:01:10.421820Z",
     "shell.execute_reply.started": "2021-07-04T23:43:29.543458Z"
    },
    "papermill": {
     "duration": 0.433639,
     "end_time": "2021-07-05T00:01:10.421982",
     "exception": false,
     "start_time": "2021-07-05T00:01:09.988343",
     "status": "completed"
    },
    "tags": []
   },
   "outputs": [],
   "source": [
    "# Import sklearn models and performance metrics\n",
    "\n",
    "from sklearn.model_selection import train_test_split, cross_val_score\n",
    "from sklearn.metrics import accuracy_score, precision_score, recall_score, confusion_matrix, mean_absolute_error\n",
    "from statsmodels.tools.eval_measures import mse, rmse\n",
    "\n",
    "from sklearn import ensemble\n",
    "from sklearn.neighbors import KNeighborsClassifier\n",
    "from sklearn.svm import SVC\n",
    "\n",
    "# Drop the original columns that we winsorized previously\n",
    "\n",
    "heart = heart.drop(['creatinine_phosphokinase', 'ejection_fraction', 'platelets', 'serum_creatinine'], axis = 1)"
   ]
  },
  {
   "cell_type": "markdown",
   "id": "handed-episode",
   "metadata": {
    "papermill": {
     "duration": 0.027866,
     "end_time": "2021-07-05T00:01:10.478818",
     "exception": false,
     "start_time": "2021-07-05T00:01:10.450952",
     "status": "completed"
    },
    "tags": []
   },
   "source": [
    "The first model we'll train is a K Nearest-Neighbors model, but first, we must split the data into training and test sets."
   ]
  },
  {
   "cell_type": "code",
   "execution_count": 13,
   "id": "intelligent-modem",
   "metadata": {
    "execution": {
     "iopub.execute_input": "2021-07-05T00:01:10.537448Z",
     "iopub.status.busy": "2021-07-05T00:01:10.536940Z",
     "iopub.status.idle": "2021-07-05T00:01:10.543093Z",
     "shell.execute_reply": "2021-07-05T00:01:10.543535Z",
     "shell.execute_reply.started": "2021-07-04T23:43:29.949322Z"
    },
    "papermill": {
     "duration": 0.037231,
     "end_time": "2021-07-05T00:01:10.543697",
     "exception": false,
     "start_time": "2021-07-05T00:01:10.506466",
     "status": "completed"
    },
    "tags": []
   },
   "outputs": [],
   "source": [
    "# Split the data into training and test sets, with a test-set size of 30 percent\n",
    "\n",
    "X = heart.drop('DEATH_EVENT', axis = 1)\n",
    "Y = heart.DEATH_EVENT\n",
    "\n",
    "X_train, X_test, y_train, y_test = train_test_split(X, Y, test_size = 0.3, random_state = 131)"
   ]
  },
  {
   "cell_type": "code",
   "execution_count": 14,
   "id": "broadband-luther",
   "metadata": {
    "execution": {
     "iopub.execute_input": "2021-07-05T00:01:10.603134Z",
     "iopub.status.busy": "2021-07-05T00:01:10.602612Z",
     "iopub.status.idle": "2021-07-05T00:01:10.619581Z",
     "shell.execute_reply": "2021-07-05T00:01:10.620061Z",
     "shell.execute_reply.started": "2021-07-04T23:43:29.958732Z"
    },
    "papermill": {
     "duration": 0.048208,
     "end_time": "2021-07-05T00:01:10.620220",
     "exception": false,
     "start_time": "2021-07-05T00:01:10.572012",
     "status": "completed"
    },
    "tags": []
   },
   "outputs": [
    {
     "name": "stdout",
     "output_type": "stream",
     "text": [
      " Accuracy score: 0.5163934426229508 \n",
      " Precision score: 0.5625 \n",
      " Recall score: 0.5373134328358209\n"
     ]
    }
   ],
   "source": [
    "# Fit the model \n",
    "knn = KNeighborsClassifier(n_neighbors = 5)\n",
    "knn.fit(X_train, y_train)\n",
    "\n",
    "# Make predictions with the model\n",
    "y_pred_knn = knn.predict(X_test)\n",
    "\n",
    "# Print accuracy, precision, and recall scores for the model \n",
    "acc_knn = accuracy_score(y_test, y_pred_knn)\n",
    "pre_knn = precision_score(y_test, y_pred_knn)\n",
    "recall_knn = recall_score(y_test, y_pred_knn)\n",
    "print(\" Accuracy score: {} \\n\".format(acc_knn), \n",
    "      \"Precision score: {} \\n\".format(pre_knn),\n",
    "      \"Recall score: {}\".format(recall_knn))"
   ]
  },
  {
   "cell_type": "markdown",
   "id": "noble-camera",
   "metadata": {
    "papermill": {
     "duration": 0.028011,
     "end_time": "2021-07-05T00:01:10.676340",
     "exception": false,
     "start_time": "2021-07-05T00:01:10.648329",
     "status": "completed"
    },
    "tags": []
   },
   "source": [
    "This isn't necessarily a great model, but we have a baseline that we can compare to other models going forward. Next, we will build a baseline Random Forest Classifier."
   ]
  },
  {
   "cell_type": "code",
   "execution_count": 15,
   "id": "nervous-traffic",
   "metadata": {
    "execution": {
     "iopub.execute_input": "2021-07-05T00:01:10.736310Z",
     "iopub.status.busy": "2021-07-05T00:01:10.735784Z",
     "iopub.status.idle": "2021-07-05T00:01:11.813875Z",
     "shell.execute_reply": "2021-07-05T00:01:11.814338Z",
     "shell.execute_reply.started": "2021-07-04T23:43:29.986605Z"
    },
    "papermill": {
     "duration": 1.109015,
     "end_time": "2021-07-05T00:01:11.814504",
     "exception": false,
     "start_time": "2021-07-05T00:01:10.705489",
     "status": "completed"
    },
    "tags": []
   },
   "outputs": [
    {
     "name": "stdout",
     "output_type": "stream",
     "text": [
      "[0.89473684 0.84210526 0.92982456 0.9122807  0.91071429]\n",
      " Accuracy score: 0.9098360655737705 \n",
      " Precision score: 0.9242424242424242 \n",
      " Recall score: 0.9104477611940298\n"
     ]
    }
   ],
   "source": [
    "# Instantiate a Random Forest classifier\n",
    "rfc = ensemble.RandomForestClassifier()\n",
    "rfc.fit(X_train, y_train)\n",
    "\n",
    "# Print the cross-validation (5-fold) score \n",
    "print(cross_val_score(rfc, X_train, y_train, cv = 5))\n",
    "\n",
    "# Make predictions and then print our performance metrics\n",
    "y_pred_rfc = rfc.predict(X_test)\n",
    "\n",
    "acc_rfc = accuracy_score(y_test, y_pred_rfc)\n",
    "pre_rfc = precision_score(y_test, y_pred_rfc)\n",
    "recall_rfc = recall_score(y_test, y_pred_rfc)\n",
    "print(\" Accuracy score: {} \\n\".format(acc_rfc), \n",
    "      \"Precision score: {} \\n\".format(pre_rfc),\n",
    "      \"Recall score: {}\".format(recall_rfc))"
   ]
  },
  {
   "cell_type": "markdown",
   "id": "democratic-surveillance",
   "metadata": {
    "papermill": {
     "duration": 0.029769,
     "end_time": "2021-07-05T00:01:11.874551",
     "exception": false,
     "start_time": "2021-07-05T00:01:11.844782",
     "status": "completed"
    },
    "tags": []
   },
   "source": [
    "This is a great start to a baseline Random forest model that we can tune even further to improve performance. Next, we can move on to building an SVM classifier"
   ]
  },
  {
   "cell_type": "code",
   "execution_count": 16,
   "id": "worse-crazy",
   "metadata": {
    "execution": {
     "iopub.execute_input": "2021-07-05T00:01:11.936880Z",
     "iopub.status.busy": "2021-07-05T00:01:11.936352Z",
     "iopub.status.idle": "2021-07-05T00:01:11.996448Z",
     "shell.execute_reply": "2021-07-05T00:01:11.995946Z",
     "shell.execute_reply.started": "2021-07-04T23:43:31.234329Z"
    },
    "papermill": {
     "duration": 0.092222,
     "end_time": "2021-07-05T00:01:11.996596",
     "exception": false,
     "start_time": "2021-07-05T00:01:11.904374",
     "status": "completed"
    },
    "tags": []
   },
   "outputs": [
    {
     "name": "stdout",
     "output_type": "stream",
     "text": [
      "[0.59649123 0.52631579 0.61403509 0.57894737 0.58928571]\n",
      " Accuracy score: 0.45901639344262296 \n",
      " Precision score: 0.5238095238095238 \n",
      " Recall score: 0.16417910447761194\n"
     ]
    }
   ],
   "source": [
    "# Build an SVM classifier\n",
    "svc = SVC()\n",
    "svc.fit(X_train, y_train)\n",
    "\n",
    "# Print the cross-validation (5-fold) score of the training set\n",
    "print(cross_val_score(svc, X_train, y_train, cv = 5))\n",
    "\n",
    "# Make predictions and then print performance metrics\n",
    "y_pred_svc = svc.predict(X_test)\n",
    "\n",
    "acc_svc = accuracy_score(y_test, y_pred_svc)\n",
    "pre_svc = precision_score(y_test, y_pred_svc)\n",
    "recall_svc = recall_score(y_test, y_pred_svc)\n",
    "print(\" Accuracy score: {} \\n\".format(acc_svc), \n",
    "      \"Precision score: {} \\n\".format(pre_svc),\n",
    "      \"Recall score: {}\".format(recall_svc))"
   ]
  },
  {
   "cell_type": "markdown",
   "id": "weird-clark",
   "metadata": {
    "papermill": {
     "duration": 0.028924,
     "end_time": "2021-07-05T00:01:12.055351",
     "exception": false,
     "start_time": "2021-07-05T00:01:12.026427",
     "status": "completed"
    },
    "tags": []
   },
   "source": [
    "Well, this is somewhat disappointing. We'll proceed to building a boosting classifier."
   ]
  },
  {
   "cell_type": "code",
   "execution_count": 17,
   "id": "breeding-bottom",
   "metadata": {
    "execution": {
     "iopub.execute_input": "2021-07-05T00:01:12.125929Z",
     "iopub.status.busy": "2021-07-05T00:01:12.125361Z",
     "iopub.status.idle": "2021-07-05T00:01:12.632742Z",
     "shell.execute_reply": "2021-07-05T00:01:12.632292Z",
     "shell.execute_reply.started": "2021-07-04T23:43:31.309864Z"
    },
    "papermill": {
     "duration": 0.547522,
     "end_time": "2021-07-05T00:01:12.632866",
     "exception": false,
     "start_time": "2021-07-05T00:01:12.085344",
     "status": "completed"
    },
    "tags": []
   },
   "outputs": [
    {
     "name": "stdout",
     "output_type": "stream",
     "text": [
      "[0.9122807  0.85964912 0.92982456 0.96491228 0.875     ]\n",
      " Accuracy score: 0.9098360655737705 \n",
      " Precision score: 0.9242424242424242 \n",
      " Recall score: 0.9104477611940298\n"
     ]
    }
   ],
   "source": [
    "# Build and fit a Gradient Boosting classifier with default parameters as a baseline model\n",
    "gbc = ensemble.GradientBoostingClassifier()\n",
    "gbc.fit(X_train, y_train)\n",
    "\n",
    "# Print cross-validation (5-fold) score for the training set\n",
    "print(cross_val_score(gbc, X_train, y_train, cv = 5))\n",
    "\n",
    "# Make predictions and then print performance metrics\n",
    "y_pred_gb = gbc.predict(X_test)\n",
    "\n",
    "acc_gb = accuracy_score(y_test, y_pred_gb)\n",
    "pre_gb = precision_score(y_test, y_pred_gb)\n",
    "recall_gb = recall_score(y_test, y_pred_gb)\n",
    "print(\" Accuracy score: {} \\n\".format(acc_gb), \n",
    "      \"Precision score: {} \\n\".format(pre_gb),\n",
    "      \"Recall score: {}\".format(recall_gb))"
   ]
  },
  {
   "cell_type": "markdown",
   "id": "difficult-mathematics",
   "metadata": {
    "papermill": {
     "duration": 0.028803,
     "end_time": "2021-07-05T00:01:12.690664",
     "exception": false,
     "start_time": "2021-07-05T00:01:12.661861",
     "status": "completed"
    },
    "tags": []
   },
   "source": [
    "Similar to the random forest classifier we trained earlier, this too is a great baseline model that we can tune the hyperparameters and improve upon. Going forward, we can compare the random forest and the gradient boosting after tuning their respective hyperparameters. An argument can be made that we should go forward solely with the random forest classifier for this problem, as it pertains to heart failure classification and thus we would prefer higher precision and recall scores to maximize the percentage of correct positive classifications and minimizing the percentage of false negative classifications. On this note, we can print out the confusion matrices to better evaluate which model minimizes false negative classifications."
   ]
  },
  {
   "cell_type": "code",
   "execution_count": 18,
   "id": "expensive-ceramic",
   "metadata": {
    "execution": {
     "iopub.execute_input": "2021-07-05T00:01:12.756104Z",
     "iopub.status.busy": "2021-07-05T00:01:12.755569Z",
     "iopub.status.idle": "2021-07-05T00:01:13.664627Z",
     "shell.execute_reply": "2021-07-05T00:01:13.665245Z",
     "shell.execute_reply.started": "2021-07-04T23:43:31.908547Z"
    },
    "papermill": {
     "duration": 0.94557,
     "end_time": "2021-07-05T00:01:13.665399",
     "exception": false,
     "start_time": "2021-07-05T00:01:12.719829",
     "status": "completed"
    },
    "tags": []
   },
   "outputs": [
    {
     "data": {
      "image/png": "[encoded data removed]",
      "text/plain": [
       "<Figure size 1080x720 with 8 Axes>"
      ]
     },
     "metadata": {
      "needs_background": "light"
     },
     "output_type": "display_data"
    }
   ],
   "source": [
    "# Display confusion matrices for the baseline models\n",
    "import seaborn as sns\n",
    "\n",
    "confusion_knn = confusion_matrix(y_test, y_pred_knn)\n",
    "confusion_rf = confusion_matrix(y_test, y_pred_rfc)\n",
    "confusion_svc = confusion_matrix(y_test, y_pred_svc)\n",
    "confusion_gb = confusion_matrix(y_test, y_pred_gb)\n",
    "\n",
    "plt.figure(figsize = (15,10))\n",
    "\n",
    "plt.subplot(2,2,1)\n",
    "sns.heatmap(confusion_knn, annot = True, cmap = \"YlGnBu\")\n",
    "plt.title(\"Confusion Matrix: \\nKNN\")\n",
    "\n",
    "plt.subplot(2,2,2)\n",
    "sns.heatmap(confusion_rf, annot = True, cmap =\"YlGnBu\")\n",
    "plt.title(\"Confusion Matrix: \\nRandom Forest\")\n",
    "\n",
    "plt.subplot(2,2,3)\n",
    "sns.heatmap(confusion_gb, annot = True, cmap = \"YlGnBu\")\n",
    "plt.title(\"Confusion Matrix: \\nGradient Boosting\")\n",
    "\n",
    "plt.subplot(2,2,4)\n",
    "sns.heatmap(confusion_svc, annot = True, cmap = \"YlGnBu\")\n",
    "plt.title(\"Confusion Matrix: \\nSupport Vector Machine\")\n",
    "\n",
    "plt.tight_layout()\n",
    "plt.show()"
   ]
  },
  {
   "cell_type": "markdown",
   "id": "documentary-notice",
   "metadata": {
    "papermill": {
     "duration": 0.030925,
     "end_time": "2021-07-05T00:01:13.727275",
     "exception": false,
     "start_time": "2021-07-05T00:01:13.696350",
     "status": "completed"
    },
    "tags": []
   },
   "source": [
    "Based upon the above confusion matrices, the two methods are fairly similar, however, the random forest classifier does possess fewer false negative classifications than the gradient boosting classifier. Hence, we will proceed with the former method for our model and tune its hyperparameters. "
   ]
  },
  {
   "cell_type": "code",
   "execution_count": 19,
   "id": "nasty-acrobat",
   "metadata": {
    "execution": {
     "iopub.execute_input": "2021-07-05T00:01:13.791081Z",
     "iopub.status.busy": "2021-07-05T00:01:13.790585Z",
     "iopub.status.idle": "2021-07-05T00:01:14.382514Z",
     "shell.execute_reply": "2021-07-05T00:01:14.382987Z",
     "shell.execute_reply.started": "2021-07-04T23:43:32.885875Z"
    },
    "papermill": {
     "duration": 0.62539,
     "end_time": "2021-07-05T00:01:14.383127",
     "exception": false,
     "start_time": "2021-07-05T00:01:13.757737",
     "status": "completed"
    },
    "tags": []
   },
   "outputs": [
    {
     "data": {
      "image/png": "[encoded data removed]",
      "text/plain": [
       "<Figure size 576x396 with 1 Axes>"
      ]
     },
     "metadata": {},
     "output_type": "display_data"
    },
    {
     "data": {
      "image/png": "[encoded data removed]",
      "text/plain": [
       "<Figure size 576x396 with 1 Axes>"
      ]
     },
     "metadata": {},
     "output_type": "display_data"
    },
    {
     "data": {
      "text/plain": [
       "<Figure size 576x396 with 0 Axes>"
      ]
     },
     "metadata": {},
     "output_type": "display_data"
    }
   ],
   "source": [
    "from yellowbrick.model_selection import feature_importances\n",
    "\n",
    "# Display the feature importances\n",
    "\n",
    "plt.subplot(211)\n",
    "viz = feature_importances(rfc, X_train, y_train)\n",
    "\n",
    "plt.subplot(212)\n",
    "viz2 = feature_importances(gbc, X_train, y_train)\n",
    "\n",
    "plt.tight_layout()\n",
    "plt.show()"
   ]
  },
  {
   "cell_type": "markdown",
   "id": "interesting-short",
   "metadata": {
    "papermill": {
     "duration": 0.033746,
     "end_time": "2021-07-05T00:01:14.450450",
     "exception": false,
     "start_time": "2021-07-05T00:01:14.416704",
     "status": "completed"
    },
    "tags": []
   },
   "source": [
    "The five most important features for the Random Forest and Gradient Boosting classifiers were the following, in respective order:\n",
    "\n",
    "RF: `time`, `winsorized_serum_creatinine`, `winsorized_ejection_fraction`, `winsorized_platelets`, and `age`\n",
    "\n",
    "GB: `time`, `winsorized_serum_creatine`, `winsorized_ejection_fraction`, `winsorized_platelets`, and `winsorized_creatinine_phosphokinase`\n",
    "\n",
    "The importance of the remaining features decays to zero much more quickly for the Gradient Boosting classifier, indicating that if we opted to proceed with a boosting model, we could reduce the dimensionality further."
   ]
  },
  {
   "cell_type": "code",
   "execution_count": 20,
   "id": "descending-thumb",
   "metadata": {
    "execution": {
     "iopub.execute_input": "2021-07-05T00:01:14.520195Z",
     "iopub.status.busy": "2021-07-05T00:01:14.519624Z",
     "iopub.status.idle": "2021-07-05T00:06:57.856315Z",
     "shell.execute_reply": "2021-07-05T00:06:57.856804Z",
     "shell.execute_reply.started": "2021-07-04T23:43:33.468121Z"
    },
    "papermill": {
     "duration": 343.372945,
     "end_time": "2021-07-05T00:06:57.856966",
     "exception": false,
     "start_time": "2021-07-05T00:01:14.484021",
     "status": "completed"
    },
    "tags": []
   },
   "outputs": [
    {
     "name": "stdout",
     "output_type": "stream",
     "text": [
      "Fitting 5 folds for each of 100 candidates, totalling 500 fits\n"
     ]
    },
    {
     "data": {
      "text/plain": [
       "{'n_estimators': 100,\n",
       " 'min_samples_split': 5,\n",
       " 'min_samples_leaf': 1,\n",
       " 'max_features': 'auto',\n",
       " 'max_depth': 30,\n",
       " 'bootstrap': True}"
      ]
     },
     "execution_count": 20,
     "metadata": {},
     "output_type": "execute_result"
    }
   ],
   "source": [
    "# Use a Random GridSearch with k-fold cross-validation to search for the best hyperparameters\n",
    "\n",
    "from sklearn.model_selection import RandomizedSearchCV, GridSearchCV\n",
    "\n",
    "# Set up the parameter grid\n",
    "\n",
    "params = {\"n_estimators\": [int(x) for x in np.linspace(start = 100, stop = 2000, num = 10)],\n",
    "         \"max_features\": ['auto', 'sqrt'],\n",
    "         \"max_depth\": [int(x) for x in np.linspace(start = 10, stop = 110, num = 11)],\n",
    "         \"min_samples_split\": [2, 5, 10],\n",
    "         \"min_samples_leaf\": [1, 2, 4],\n",
    "         \"bootstrap\": [True, False],\n",
    "         }\n",
    "\n",
    "# Iterating through this grid, we will be testing 3960 settings on a base model\n",
    "rf = ensemble.RandomForestClassifier()\n",
    "\n",
    "# Instantiate a randomized GridSearch model with 5-fold cross-validation\n",
    "rf_random = RandomizedSearchCV(estimator = rf, param_distributions = params, n_iter = 100, cv = 5, verbose = 2, random_state = 43,  n_jobs =-1)\n",
    "\n",
    "# Fit the random search model to the training set and output the best parameters\n",
    "rf_random.fit(X_train, y_train)\n",
    "rf_random.best_params_"
   ]
  },
  {
   "cell_type": "markdown",
   "id": "curious-battle",
   "metadata": {
    "papermill": {
     "duration": 0.034619,
     "end_time": "2021-07-05T00:06:57.925009",
     "exception": false,
     "start_time": "2021-07-05T00:06:57.890390",
     "status": "completed"
    },
    "tags": []
   },
   "source": [
    "With these hyperparameter values in hand, we can use a more concentrated Grid Search."
   ]
  },
  {
   "cell_type": "code",
   "execution_count": 21,
   "id": "terminal-painting",
   "metadata": {
    "execution": {
     "iopub.execute_input": "2021-07-05T00:06:58.001493Z",
     "iopub.status.busy": "2021-07-05T00:06:58.000894Z",
     "iopub.status.idle": "2021-07-05T00:06:58.002603Z",
     "shell.execute_reply": "2021-07-05T00:06:58.003052Z",
     "shell.execute_reply.started": "2021-07-04T23:50:10.567909Z"
    },
    "papermill": {
     "duration": 0.044453,
     "end_time": "2021-07-05T00:06:58.003197",
     "exception": false,
     "start_time": "2021-07-05T00:06:57.958744",
     "status": "completed"
    },
    "tags": []
   },
   "outputs": [],
   "source": [
    "# Create a parameter grid based upon the results from the randomized search\n",
    "\n",
    "param_grid = {'bootstrap': [False],\n",
    "             'max_features': [2, 3],\n",
    "             'max_depth': [110, 120, 130, 140, 150],\n",
    "             'min_samples_leaf': [1, 2, 4],\n",
    "             'min_samples_split': [2, 3],\n",
    "             'n_estimators': [100, 200, 300, 1000]\n",
    "             }\n",
    "\n",
    "# Create our base random forest model\n",
    "rf = ensemble.RandomForestClassifier()\n",
    "\n",
    "# Instantiate the Grid Search model\n",
    "GridSearch = GridSearchCV(estimator = rf, param_grid = param_grid, \n",
    "                         cv = 5, n_jobs = -1, verbose = 2, error_score = 'raise')"
   ]
  },
  {
   "cell_type": "code",
   "execution_count": 22,
   "id": "coral-currency",
   "metadata": {
    "execution": {
     "iopub.execute_input": "2021-07-05T00:06:58.074723Z",
     "iopub.status.busy": "2021-07-05T00:06:58.074121Z",
     "iopub.status.idle": "2021-07-05T00:11:16.212842Z",
     "shell.execute_reply": "2021-07-05T00:11:16.213313Z",
     "shell.execute_reply.started": "2021-07-04T23:50:10.576721Z"
    },
    "papermill": {
     "duration": 258.175909,
     "end_time": "2021-07-05T00:11:16.213500",
     "exception": false,
     "start_time": "2021-07-05T00:06:58.037591",
     "status": "completed"
    },
    "tags": []
   },
   "outputs": [
    {
     "name": "stdout",
     "output_type": "stream",
     "text": [
      "Fitting 5 folds for each of 240 candidates, totalling 1200 fits\n"
     ]
    },
    {
     "data": {
      "text/plain": [
       "{'bootstrap': False,\n",
       " 'max_depth': 110,\n",
       " 'max_features': 2,\n",
       " 'min_samples_leaf': 1,\n",
       " 'min_samples_split': 2,\n",
       " 'n_estimators': 300}"
      ]
     },
     "execution_count": 22,
     "metadata": {},
     "output_type": "execute_result"
    }
   ],
   "source": [
    "# Fit the Grid Search to the data and determine the best values for the hyperparameters\n",
    "GridSearch.fit(X_train, y_train)\n",
    "GridSearch.best_params_"
   ]
  },
  {
   "cell_type": "code",
   "execution_count": 23,
   "id": "wrong-membrane",
   "metadata": {
    "execution": {
     "iopub.execute_input": "2021-07-05T00:11:16.292218Z",
     "iopub.status.busy": "2021-07-05T00:11:16.291385Z",
     "iopub.status.idle": "2021-07-05T00:11:16.330172Z",
     "shell.execute_reply": "2021-07-05T00:11:16.330658Z",
     "shell.execute_reply.started": "2021-07-04T23:55:03.362534Z"
    },
    "papermill": {
     "duration": 0.081307,
     "end_time": "2021-07-05T00:11:16.330822",
     "exception": false,
     "start_time": "2021-07-05T00:11:16.249515",
     "status": "completed"
    },
    "tags": []
   },
   "outputs": [
    {
     "name": "stdout",
     "output_type": "stream",
     "text": [
      " Accuracy score: 0.9098360655737705 \n",
      " Precision score: 0.9375 \n",
      " Recall score: 0.8955223880597015\n"
     ]
    }
   ],
   "source": [
    "# Make predictions with the GridSearch parameters\n",
    "y_pred_gridcv = GridSearch.predict(X_test)\n",
    "\n",
    "# Output model evaluation metrics\n",
    "acc_gridcv = accuracy_score(y_test, y_pred_gridcv)\n",
    "pre_gridcv = precision_score(y_test, y_pred_gridcv)\n",
    "recall_gridcv = recall_score(y_test, y_pred_gridcv)\n",
    "print(\" Accuracy score: {} \\n\".format(acc_gridcv), \n",
    "      \"Precision score: {} \\n\".format(pre_gridcv),\n",
    "      \"Recall score: {}\".format(recall_gridcv))"
   ]
  },
  {
   "cell_type": "code",
   "execution_count": 24,
   "id": "increasing-uruguay",
   "metadata": {
    "execution": {
     "iopub.execute_input": "2021-07-05T00:11:16.443501Z",
     "iopub.status.busy": "2021-07-05T00:11:16.429908Z",
     "iopub.status.idle": "2021-07-05T00:11:16.800057Z",
     "shell.execute_reply": "2021-07-05T00:11:16.800553Z",
     "shell.execute_reply.started": "2021-07-04T23:55:03.402328Z"
    },
    "papermill": {
     "duration": 0.433567,
     "end_time": "2021-07-05T00:11:16.800702",
     "exception": false,
     "start_time": "2021-07-05T00:11:16.367135",
     "status": "completed"
    },
    "tags": []
   },
   "outputs": [
    {
     "data": {
      "image/png": "[encoded data removed]",
      "text/plain": [
       "<Figure size 1080x720 with 4 Axes>"
      ]
     },
     "metadata": {},
     "output_type": "display_data"
    }
   ],
   "source": [
    "# Display confusion matrices for the original model and the GridSearch model\n",
    "\n",
    "plt.figure(figsize = (15, 10))\n",
    "\n",
    "plt.subplot(1,2,1)\n",
    "sns.heatmap(confusion_rf, annot = True, cmap = 'YlGnBu')\n",
    "plt.title(\"Confusion Matrix: Original Model\")\n",
    "\n",
    "plt.subplot(1,2,2)\n",
    "sns.heatmap(confusion_matrix(y_test, y_pred_gridcv), annot = True, cmap = 'YlGnBu')\n",
    "plt.title(\"Confusion Matrix: Grid Search\")\n",
    "\n",
    "plt.tight_layout()\n",
    "plt.show()"
   ]
  },
  {
   "cell_type": "code",
   "execution_count": null,
   "id": "moving-civilization",
   "metadata": {
    "papermill": {
     "duration": 0.035176,
     "end_time": "2021-07-05T00:11:16.871058",
     "exception": false,
     "start_time": "2021-07-05T00:11:16.835882",
     "status": "completed"
    },
    "tags": []
   },
   "outputs": [],
   "source": []
  }
 ],
 "metadata": {
  "kernelspec": {
   "display_name": "Python 3",
   "language": "python",
   "name": "python3"
  },
  "language_info": {
   "codemirror_mode": {
    "name": "ipython",
    "version": 3
   },
   "file_extension": ".py",
   "mimetype": "text/x-python",
   "name": "python",
   "nbconvert_exporter": "python",
   "pygments_lexer": "ipython3",
   "version": "3.7.10"
  },
  "papermill": {
   "default_parameters": {},
   "duration": 617.677673,
   "end_time": "2021-07-05T00:11:17.615685",
   "environment_variables": {},
   "exception": null,
   "input_path": "__notebook__.ipynb",
   "output_path": "__notebook__.ipynb",
   "parameters": {},
   "start_time": "2021-07-05T00:00:59.938012",
   "version": "2.3.3"
  }
 },
 "nbformat": 4,
 "nbformat_minor": 5
}
