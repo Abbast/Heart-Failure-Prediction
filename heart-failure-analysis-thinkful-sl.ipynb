{
 "cells": [
  {
   "cell_type": "code",
   "execution_count": 1,
   "id": "tender-symposium",
   "metadata": {
    "_cell_guid": "b1076dfc-b9ad-4769-8c92-a6c4dae69d19",
    "_uuid": "8f2839f25d086af736a60e9eeb907d3b93b6e0e5",
    "execution": {
     "iopub.execute_input": "2021-07-01T20:23:22.510216Z",
     "iopub.status.busy": "2021-07-01T20:23:22.509026Z",
     "iopub.status.idle": "2021-07-01T20:23:22.526663Z",
     "shell.execute_reply": "2021-07-01T20:23:22.527231Z",
     "shell.execute_reply.started": "2021-07-01T16:13:30.565852Z"
    },
    "papermill": {
     "duration": 0.045288,
     "end_time": "2021-07-01T20:23:22.527529",
     "exception": false,
     "start_time": "2021-07-01T20:23:22.482241",
     "status": "completed"
    },
    "tags": []
   },
   "outputs": [
    {
     "name": "stdout",
     "output_type": "stream",
     "text": [
      "/kaggle/input/heart-failure-clinical-data/heart_failure_clinical_records_dataset.csv\n"
     ]
    }
   ],
   "source": [
    "# This Python 3 environment comes with many helpful analytics libraries installed\n",
    "# It is defined by the kaggle/python Docker image: https://github.com/kaggle/docker-python\n",
    "# For example, here's several helpful packages to load\n",
    "\n",
    "import numpy as np # linear algebra.\n",
    "import pandas as pd # data processing, CSV file I/O (e.g. pd.read_csv)\n",
    "\n",
    "# Input data files are available in the read-only \"../input/\" directory\n",
    "# For example, running this (by clicking run or pressing Shift+Enter) will list all files under the input directory\n",
    "\n",
    "import os\n",
    "for dirname, _, filenames in os.walk('/kaggle/input'):\n",
    "    for filename in filenames:\n",
    "        print(os.path.join(dirname, filename))\n",
    "\n",
    "# You can write up to 20GB to the current directory (/kaggle/working/) that gets preserved as output when you create a version using \"Save & Run All\" \n",
    "# You can also write temporary files to /kaggle/temp/, but they won't be saved outside of the current session"
   ]
  },
  {
   "cell_type": "code",
   "execution_count": 2,
   "id": "executed-surprise",
   "metadata": {
    "execution": {
     "iopub.execute_input": "2021-07-01T20:23:22.575203Z",
     "iopub.status.busy": "2021-07-01T20:23:22.574486Z",
     "iopub.status.idle": "2021-07-01T20:23:23.353422Z",
     "shell.execute_reply": "2021-07-01T20:23:23.352881Z",
     "shell.execute_reply.started": "2021-07-01T16:13:55.879602Z"
    },
    "papermill": {
     "duration": 0.803637,
     "end_time": "2021-07-01T20:23:23.353562",
     "exception": false,
     "start_time": "2021-07-01T20:23:22.549925",
     "status": "completed"
    },
    "tags": []
   },
   "outputs": [
    {
     "data": {
      "text/html": [
       "<div>\n",
       "<style scoped>\n",
       "    .dataframe tbody tr th:only-of-type {\n",
       "        vertical-align: middle;\n",
       "    }\n",
       "\n",
       "    .dataframe tbody tr th {\n",
       "        vertical-align: top;\n",
       "    }\n",
       "\n",
       "    .dataframe thead th {\n",
       "        text-align: right;\n",
       "    }\n",
       "</style>\n",
       "<table border=\"1\" class=\"dataframe\">\n",
       "  <thead>\n",
       "    <tr style=\"text-align: right;\">\n",
       "      <th></th>\n",
       "      <th>age</th>\n",
       "      <th>anaemia</th>\n",
       "      <th>creatinine_phosphokinase</th>\n",
       "      <th>diabetes</th>\n",
       "      <th>ejection_fraction</th>\n",
       "      <th>high_blood_pressure</th>\n",
       "      <th>platelets</th>\n",
       "      <th>serum_creatinine</th>\n",
       "      <th>serum_sodium</th>\n",
       "      <th>sex</th>\n",
       "      <th>smoking</th>\n",
       "      <th>time</th>\n",
       "      <th>DEATH_EVENT</th>\n",
       "    </tr>\n",
       "  </thead>\n",
       "  <tbody>\n",
       "    <tr>\n",
       "      <th>0</th>\n",
       "      <td>75.0</td>\n",
       "      <td>0</td>\n",
       "      <td>582</td>\n",
       "      <td>0</td>\n",
       "      <td>20</td>\n",
       "      <td>1</td>\n",
       "      <td>265000.00</td>\n",
       "      <td>1.9</td>\n",
       "      <td>130</td>\n",
       "      <td>1</td>\n",
       "      <td>0</td>\n",
       "      <td>4</td>\n",
       "      <td>1</td>\n",
       "    </tr>\n",
       "    <tr>\n",
       "      <th>1</th>\n",
       "      <td>55.0</td>\n",
       "      <td>0</td>\n",
       "      <td>7861</td>\n",
       "      <td>0</td>\n",
       "      <td>38</td>\n",
       "      <td>0</td>\n",
       "      <td>263358.03</td>\n",
       "      <td>1.1</td>\n",
       "      <td>136</td>\n",
       "      <td>1</td>\n",
       "      <td>0</td>\n",
       "      <td>6</td>\n",
       "      <td>1</td>\n",
       "    </tr>\n",
       "    <tr>\n",
       "      <th>2</th>\n",
       "      <td>65.0</td>\n",
       "      <td>0</td>\n",
       "      <td>146</td>\n",
       "      <td>0</td>\n",
       "      <td>20</td>\n",
       "      <td>0</td>\n",
       "      <td>162000.00</td>\n",
       "      <td>1.3</td>\n",
       "      <td>129</td>\n",
       "      <td>1</td>\n",
       "      <td>1</td>\n",
       "      <td>7</td>\n",
       "      <td>1</td>\n",
       "    </tr>\n",
       "    <tr>\n",
       "      <th>3</th>\n",
       "      <td>50.0</td>\n",
       "      <td>1</td>\n",
       "      <td>111</td>\n",
       "      <td>0</td>\n",
       "      <td>20</td>\n",
       "      <td>0</td>\n",
       "      <td>210000.00</td>\n",
       "      <td>1.9</td>\n",
       "      <td>137</td>\n",
       "      <td>1</td>\n",
       "      <td>0</td>\n",
       "      <td>7</td>\n",
       "      <td>1</td>\n",
       "    </tr>\n",
       "    <tr>\n",
       "      <th>4</th>\n",
       "      <td>65.0</td>\n",
       "      <td>1</td>\n",
       "      <td>160</td>\n",
       "      <td>1</td>\n",
       "      <td>20</td>\n",
       "      <td>0</td>\n",
       "      <td>327000.00</td>\n",
       "      <td>2.7</td>\n",
       "      <td>116</td>\n",
       "      <td>0</td>\n",
       "      <td>0</td>\n",
       "      <td>8</td>\n",
       "      <td>1</td>\n",
       "    </tr>\n",
       "  </tbody>\n",
       "</table>\n",
       "</div>"
      ],
      "text/plain": [
       "    age  anaemia  creatinine_phosphokinase  diabetes  ejection_fraction  \\\n",
       "0  75.0        0                       582         0                 20   \n",
       "1  55.0        0                      7861         0                 38   \n",
       "2  65.0        0                       146         0                 20   \n",
       "3  50.0        1                       111         0                 20   \n",
       "4  65.0        1                       160         1                 20   \n",
       "\n",
       "   high_blood_pressure  platelets  serum_creatinine  serum_sodium  sex  \\\n",
       "0                    1  265000.00               1.9           130    1   \n",
       "1                    0  263358.03               1.1           136    1   \n",
       "2                    0  162000.00               1.3           129    1   \n",
       "3                    0  210000.00               1.9           137    1   \n",
       "4                    0  327000.00               2.7           116    0   \n",
       "\n",
       "   smoking  time  DEATH_EVENT  \n",
       "0        0     4            1  \n",
       "1        0     6            1  \n",
       "2        1     7            1  \n",
       "3        0     7            1  \n",
       "4        0     8            1  "
      ]
     },
     "execution_count": 2,
     "metadata": {},
     "output_type": "execute_result"
    }
   ],
   "source": [
    "# More imports\n",
    "\n",
    "import scipy\n",
    "from scipy import stats\n",
    "import matplotlib.pyplot as plt\n",
    "%matplotlib inline\n",
    "\n",
    "# Read in the data to a dataframe\n",
    "\n",
    "heart_failure = pd.read_csv(\"/kaggle/input/heart-failure-clinical-data/heart_failure_clinical_records_dataset.csv\")\n",
    "\n",
    "# Display the first 5 rows\n",
    "\n",
    "heart_failure.head(5)"
   ]
  },
  {
   "cell_type": "code",
   "execution_count": 3,
   "id": "together-shell",
   "metadata": {
    "execution": {
     "iopub.execute_input": "2021-07-01T20:23:23.423002Z",
     "iopub.status.busy": "2021-07-01T20:23:23.422154Z",
     "iopub.status.idle": "2021-07-01T20:23:23.450523Z",
     "shell.execute_reply": "2021-07-01T20:23:23.449637Z",
     "shell.execute_reply.started": "2021-07-01T16:13:59.798917Z"
    },
    "papermill": {
     "duration": 0.065563,
     "end_time": "2021-07-01T20:23:23.450689",
     "exception": false,
     "start_time": "2021-07-01T20:23:23.385126",
     "status": "completed"
    },
    "tags": []
   },
   "outputs": [
    {
     "name": "stdout",
     "output_type": "stream",
     "text": [
      "<class 'pandas.core.frame.DataFrame'>\n",
      "RangeIndex: 299 entries, 0 to 298\n",
      "Data columns (total 13 columns):\n",
      " #   Column                    Non-Null Count  Dtype  \n",
      "---  ------                    --------------  -----  \n",
      " 0   age                       299 non-null    float64\n",
      " 1   anaemia                   299 non-null    int64  \n",
      " 2   creatinine_phosphokinase  299 non-null    int64  \n",
      " 3   diabetes                  299 non-null    int64  \n",
      " 4   ejection_fraction         299 non-null    int64  \n",
      " 5   high_blood_pressure       299 non-null    int64  \n",
      " 6   platelets                 299 non-null    float64\n",
      " 7   serum_creatinine          299 non-null    float64\n",
      " 8   serum_sodium              299 non-null    int64  \n",
      " 9   sex                       299 non-null    int64  \n",
      " 10  smoking                   299 non-null    int64  \n",
      " 11  time                      299 non-null    int64  \n",
      " 12  DEATH_EVENT               299 non-null    int64  \n",
      "dtypes: float64(3), int64(10)\n",
      "memory usage: 30.5 KB\n"
     ]
    }
   ],
   "source": [
    "# Display information about the dataset\n",
    "\n",
    "heart_failure.info()"
   ]
  },
  {
   "cell_type": "markdown",
   "id": "proud-conducting",
   "metadata": {
    "papermill": {
     "duration": 0.023171,
     "end_time": "2021-07-01T20:23:23.503907",
     "exception": false,
     "start_time": "2021-07-01T20:23:23.480736",
     "status": "completed"
    },
    "tags": []
   },
   "source": [
    "Alright, this dataset consists of 299 rows and 13 columns, with only numerically valued entries. Furthermore, there don't appear to be any missing values that we'll need to address"
   ]
  },
  {
   "cell_type": "code",
   "execution_count": 4,
   "id": "confused-mount",
   "metadata": {
    "execution": {
     "iopub.execute_input": "2021-07-01T20:23:23.557469Z",
     "iopub.status.busy": "2021-07-01T20:23:23.556767Z",
     "iopub.status.idle": "2021-07-01T20:23:23.604232Z",
     "shell.execute_reply": "2021-07-01T20:23:23.604727Z",
     "shell.execute_reply.started": "2021-07-01T16:14:03.955403Z"
    },
    "papermill": {
     "duration": 0.078357,
     "end_time": "2021-07-01T20:23:23.604912",
     "exception": false,
     "start_time": "2021-07-01T20:23:23.526555",
     "status": "completed"
    },
    "tags": []
   },
   "outputs": [
    {
     "data": {
      "text/html": [
       "<div>\n",
       "<style scoped>\n",
       "    .dataframe tbody tr th:only-of-type {\n",
       "        vertical-align: middle;\n",
       "    }\n",
       "\n",
       "    .dataframe tbody tr th {\n",
       "        vertical-align: top;\n",
       "    }\n",
       "\n",
       "    .dataframe thead th {\n",
       "        text-align: right;\n",
       "    }\n",
       "</style>\n",
       "<table border=\"1\" class=\"dataframe\">\n",
       "  <thead>\n",
       "    <tr style=\"text-align: right;\">\n",
       "      <th></th>\n",
       "      <th>age</th>\n",
       "      <th>anaemia</th>\n",
       "      <th>creatinine_phosphokinase</th>\n",
       "      <th>diabetes</th>\n",
       "      <th>ejection_fraction</th>\n",
       "      <th>high_blood_pressure</th>\n",
       "      <th>platelets</th>\n",
       "      <th>serum_creatinine</th>\n",
       "      <th>serum_sodium</th>\n",
       "      <th>sex</th>\n",
       "      <th>smoking</th>\n",
       "      <th>time</th>\n",
       "      <th>DEATH_EVENT</th>\n",
       "    </tr>\n",
       "  </thead>\n",
       "  <tbody>\n",
       "    <tr>\n",
       "      <th>count</th>\n",
       "      <td>299.000000</td>\n",
       "      <td>299.000000</td>\n",
       "      <td>299.000000</td>\n",
       "      <td>299.000000</td>\n",
       "      <td>299.000000</td>\n",
       "      <td>299.000000</td>\n",
       "      <td>299.000000</td>\n",
       "      <td>299.00000</td>\n",
       "      <td>299.000000</td>\n",
       "      <td>299.000000</td>\n",
       "      <td>299.00000</td>\n",
       "      <td>299.000000</td>\n",
       "      <td>299.00000</td>\n",
       "    </tr>\n",
       "    <tr>\n",
       "      <th>mean</th>\n",
       "      <td>60.833893</td>\n",
       "      <td>0.431438</td>\n",
       "      <td>581.839465</td>\n",
       "      <td>0.418060</td>\n",
       "      <td>38.083612</td>\n",
       "      <td>0.351171</td>\n",
       "      <td>263358.029264</td>\n",
       "      <td>1.39388</td>\n",
       "      <td>136.625418</td>\n",
       "      <td>0.648829</td>\n",
       "      <td>0.32107</td>\n",
       "      <td>130.260870</td>\n",
       "      <td>0.32107</td>\n",
       "    </tr>\n",
       "    <tr>\n",
       "      <th>std</th>\n",
       "      <td>11.894809</td>\n",
       "      <td>0.496107</td>\n",
       "      <td>970.287881</td>\n",
       "      <td>0.494067</td>\n",
       "      <td>11.834841</td>\n",
       "      <td>0.478136</td>\n",
       "      <td>97804.236869</td>\n",
       "      <td>1.03451</td>\n",
       "      <td>4.412477</td>\n",
       "      <td>0.478136</td>\n",
       "      <td>0.46767</td>\n",
       "      <td>77.614208</td>\n",
       "      <td>0.46767</td>\n",
       "    </tr>\n",
       "    <tr>\n",
       "      <th>min</th>\n",
       "      <td>40.000000</td>\n",
       "      <td>0.000000</td>\n",
       "      <td>23.000000</td>\n",
       "      <td>0.000000</td>\n",
       "      <td>14.000000</td>\n",
       "      <td>0.000000</td>\n",
       "      <td>25100.000000</td>\n",
       "      <td>0.50000</td>\n",
       "      <td>113.000000</td>\n",
       "      <td>0.000000</td>\n",
       "      <td>0.00000</td>\n",
       "      <td>4.000000</td>\n",
       "      <td>0.00000</td>\n",
       "    </tr>\n",
       "    <tr>\n",
       "      <th>25%</th>\n",
       "      <td>51.000000</td>\n",
       "      <td>0.000000</td>\n",
       "      <td>116.500000</td>\n",
       "      <td>0.000000</td>\n",
       "      <td>30.000000</td>\n",
       "      <td>0.000000</td>\n",
       "      <td>212500.000000</td>\n",
       "      <td>0.90000</td>\n",
       "      <td>134.000000</td>\n",
       "      <td>0.000000</td>\n",
       "      <td>0.00000</td>\n",
       "      <td>73.000000</td>\n",
       "      <td>0.00000</td>\n",
       "    </tr>\n",
       "    <tr>\n",
       "      <th>50%</th>\n",
       "      <td>60.000000</td>\n",
       "      <td>0.000000</td>\n",
       "      <td>250.000000</td>\n",
       "      <td>0.000000</td>\n",
       "      <td>38.000000</td>\n",
       "      <td>0.000000</td>\n",
       "      <td>262000.000000</td>\n",
       "      <td>1.10000</td>\n",
       "      <td>137.000000</td>\n",
       "      <td>1.000000</td>\n",
       "      <td>0.00000</td>\n",
       "      <td>115.000000</td>\n",
       "      <td>0.00000</td>\n",
       "    </tr>\n",
       "    <tr>\n",
       "      <th>75%</th>\n",
       "      <td>70.000000</td>\n",
       "      <td>1.000000</td>\n",
       "      <td>582.000000</td>\n",
       "      <td>1.000000</td>\n",
       "      <td>45.000000</td>\n",
       "      <td>1.000000</td>\n",
       "      <td>303500.000000</td>\n",
       "      <td>1.40000</td>\n",
       "      <td>140.000000</td>\n",
       "      <td>1.000000</td>\n",
       "      <td>1.00000</td>\n",
       "      <td>203.000000</td>\n",
       "      <td>1.00000</td>\n",
       "    </tr>\n",
       "    <tr>\n",
       "      <th>max</th>\n",
       "      <td>95.000000</td>\n",
       "      <td>1.000000</td>\n",
       "      <td>7861.000000</td>\n",
       "      <td>1.000000</td>\n",
       "      <td>80.000000</td>\n",
       "      <td>1.000000</td>\n",
       "      <td>850000.000000</td>\n",
       "      <td>9.40000</td>\n",
       "      <td>148.000000</td>\n",
       "      <td>1.000000</td>\n",
       "      <td>1.00000</td>\n",
       "      <td>285.000000</td>\n",
       "      <td>1.00000</td>\n",
       "    </tr>\n",
       "  </tbody>\n",
       "</table>\n",
       "</div>"
      ],
      "text/plain": [
       "              age     anaemia  creatinine_phosphokinase    diabetes  \\\n",
       "count  299.000000  299.000000                299.000000  299.000000   \n",
       "mean    60.833893    0.431438                581.839465    0.418060   \n",
       "std     11.894809    0.496107                970.287881    0.494067   \n",
       "min     40.000000    0.000000                 23.000000    0.000000   \n",
       "25%     51.000000    0.000000                116.500000    0.000000   \n",
       "50%     60.000000    0.000000                250.000000    0.000000   \n",
       "75%     70.000000    1.000000                582.000000    1.000000   \n",
       "max     95.000000    1.000000               7861.000000    1.000000   \n",
       "\n",
       "       ejection_fraction  high_blood_pressure      platelets  \\\n",
       "count         299.000000           299.000000     299.000000   \n",
       "mean           38.083612             0.351171  263358.029264   \n",
       "std            11.834841             0.478136   97804.236869   \n",
       "min            14.000000             0.000000   25100.000000   \n",
       "25%            30.000000             0.000000  212500.000000   \n",
       "50%            38.000000             0.000000  262000.000000   \n",
       "75%            45.000000             1.000000  303500.000000   \n",
       "max            80.000000             1.000000  850000.000000   \n",
       "\n",
       "       serum_creatinine  serum_sodium         sex    smoking        time  \\\n",
       "count         299.00000    299.000000  299.000000  299.00000  299.000000   \n",
       "mean            1.39388    136.625418    0.648829    0.32107  130.260870   \n",
       "std             1.03451      4.412477    0.478136    0.46767   77.614208   \n",
       "min             0.50000    113.000000    0.000000    0.00000    4.000000   \n",
       "25%             0.90000    134.000000    0.000000    0.00000   73.000000   \n",
       "50%             1.10000    137.000000    1.000000    0.00000  115.000000   \n",
       "75%             1.40000    140.000000    1.000000    1.00000  203.000000   \n",
       "max             9.40000    148.000000    1.000000    1.00000  285.000000   \n",
       "\n",
       "       DEATH_EVENT  \n",
       "count    299.00000  \n",
       "mean       0.32107  \n",
       "std        0.46767  \n",
       "min        0.00000  \n",
       "25%        0.00000  \n",
       "50%        0.00000  \n",
       "75%        1.00000  \n",
       "max        1.00000  "
      ]
     },
     "execution_count": 4,
     "metadata": {},
     "output_type": "execute_result"
    }
   ],
   "source": [
    "# Obtain a basic statistical description for the dataset\n",
    "\n",
    "heart_failure.describe()"
   ]
  },
  {
   "cell_type": "markdown",
   "id": "adaptive-theorem",
   "metadata": {
    "papermill": {
     "duration": 0.023192,
     "end_time": "2021-07-01T20:23:23.652550",
     "exception": false,
     "start_time": "2021-07-01T20:23:23.629358",
     "status": "completed"
    },
    "tags": []
   },
   "source": [
    "Based off of the standard deviation, $75^{\\text{th}}-$percentile, and the maximum value, the following variables have outliers that we will need to address:\n",
    "\n",
    "1. `creatinine_phosphokinase`\n",
    "2. `ejection_fraction`\n",
    "3. `platelets`\n",
    "4. `serum_creatinine`\n",
    "\n",
    "There are two possible treatments: winsorization or removal by z-score. For sake of completeness of the dataset, we will opt to winsorize the data since it will limit the extreme values."
   ]
  },
  {
   "cell_type": "code",
   "execution_count": 5,
   "id": "standard-account",
   "metadata": {
    "execution": {
     "iopub.execute_input": "2021-07-01T20:23:23.707512Z",
     "iopub.status.busy": "2021-07-01T20:23:23.706272Z",
     "iopub.status.idle": "2021-07-01T20:23:23.714041Z",
     "shell.execute_reply": "2021-07-01T20:23:23.713521Z",
     "shell.execute_reply.started": "2021-07-01T16:14:07.241254Z"
    },
    "papermill": {
     "duration": 0.038215,
     "end_time": "2021-07-01T20:23:23.714186",
     "exception": false,
     "start_time": "2021-07-01T20:23:23.675971",
     "status": "completed"
    },
    "tags": []
   },
   "outputs": [],
   "source": [
    "# Winsorize the aforementioned variables\n",
    "\n",
    "from scipy.stats.mstats import winsorize\n",
    "\n",
    "# Make a copy of the dataframe to apply modifications to \n",
    "\n",
    "heart = heart_failure.copy()\n",
    "\n",
    "# Apply one-way winsorization to the either the 90th or 95th percentile\n",
    "heart['winsorized_creatinine_phosphokinase'] = winsorize(heart['creatinine_phosphokinase'], [0, 0.1])\n",
    "heart['winsorized_ejection_fraction'] = winsorize(heart['ejection_fraction'], [0, 0.05])\n",
    "heart['winsorized_platelets'] = winsorize(heart['platelets'], [0, 0.1])\n",
    "heart['winsorized_serum_creatinine'] = winsorize(heart['serum_creatinine'], [0, 0.1])"
   ]
  },
  {
   "cell_type": "code",
   "execution_count": 6,
   "id": "informed-sector",
   "metadata": {
    "execution": {
     "iopub.execute_input": "2021-07-01T20:23:23.773046Z",
     "iopub.status.busy": "2021-07-01T20:23:23.766346Z",
     "iopub.status.idle": "2021-07-01T20:23:23.791052Z",
     "shell.execute_reply": "2021-07-01T20:23:23.790396Z",
     "shell.execute_reply.started": "2021-07-01T16:14:11.001527Z"
    },
    "papermill": {
     "duration": 0.053472,
     "end_time": "2021-07-01T20:23:23.791206",
     "exception": false,
     "start_time": "2021-07-01T20:23:23.737734",
     "status": "completed"
    },
    "tags": []
   },
   "outputs": [
    {
     "data": {
      "text/html": [
       "<div>\n",
       "<style scoped>\n",
       "    .dataframe tbody tr th:only-of-type {\n",
       "        vertical-align: middle;\n",
       "    }\n",
       "\n",
       "    .dataframe tbody tr th {\n",
       "        vertical-align: top;\n",
       "    }\n",
       "\n",
       "    .dataframe thead th {\n",
       "        text-align: right;\n",
       "    }\n",
       "</style>\n",
       "<table border=\"1\" class=\"dataframe\">\n",
       "  <thead>\n",
       "    <tr style=\"text-align: right;\">\n",
       "      <th></th>\n",
       "      <th>winsorized_creatinine_phosphokinase</th>\n",
       "      <th>winsorized_ejection_fraction</th>\n",
       "      <th>winsorized_platelets</th>\n",
       "      <th>winsorized_serum_creatinine</th>\n",
       "    </tr>\n",
       "  </thead>\n",
       "  <tbody>\n",
       "    <tr>\n",
       "      <th>count</th>\n",
       "      <td>299.000000</td>\n",
       "      <td>299.000000</td>\n",
       "      <td>299.000000</td>\n",
       "      <td>299.000000</td>\n",
       "    </tr>\n",
       "    <tr>\n",
       "      <th>mean</th>\n",
       "      <td>417.498328</td>\n",
       "      <td>37.953177</td>\n",
       "      <td>254675.755017</td>\n",
       "      <td>1.229666</td>\n",
       "    </tr>\n",
       "    <tr>\n",
       "      <th>std</th>\n",
       "      <td>370.748973</td>\n",
       "      <td>11.511789</td>\n",
       "      <td>74911.468807</td>\n",
       "      <td>0.430112</td>\n",
       "    </tr>\n",
       "    <tr>\n",
       "      <th>min</th>\n",
       "      <td>23.000000</td>\n",
       "      <td>14.000000</td>\n",
       "      <td>25100.000000</td>\n",
       "      <td>0.500000</td>\n",
       "    </tr>\n",
       "    <tr>\n",
       "      <th>25%</th>\n",
       "      <td>116.500000</td>\n",
       "      <td>30.000000</td>\n",
       "      <td>212500.000000</td>\n",
       "      <td>0.900000</td>\n",
       "    </tr>\n",
       "    <tr>\n",
       "      <th>50%</th>\n",
       "      <td>250.000000</td>\n",
       "      <td>38.000000</td>\n",
       "      <td>262000.000000</td>\n",
       "      <td>1.100000</td>\n",
       "    </tr>\n",
       "    <tr>\n",
       "      <th>75%</th>\n",
       "      <td>582.000000</td>\n",
       "      <td>45.000000</td>\n",
       "      <td>303500.000000</td>\n",
       "      <td>1.400000</td>\n",
       "    </tr>\n",
       "    <tr>\n",
       "      <th>max</th>\n",
       "      <td>1211.000000</td>\n",
       "      <td>60.000000</td>\n",
       "      <td>377000.000000</td>\n",
       "      <td>2.100000</td>\n",
       "    </tr>\n",
       "  </tbody>\n",
       "</table>\n",
       "</div>"
      ],
      "text/plain": [
       "       winsorized_creatinine_phosphokinase  winsorized_ejection_fraction  \\\n",
       "count                           299.000000                    299.000000   \n",
       "mean                            417.498328                     37.953177   \n",
       "std                             370.748973                     11.511789   \n",
       "min                              23.000000                     14.000000   \n",
       "25%                             116.500000                     30.000000   \n",
       "50%                             250.000000                     38.000000   \n",
       "75%                             582.000000                     45.000000   \n",
       "max                            1211.000000                     60.000000   \n",
       "\n",
       "       winsorized_platelets  winsorized_serum_creatinine  \n",
       "count            299.000000                   299.000000  \n",
       "mean          254675.755017                     1.229666  \n",
       "std            74911.468807                     0.430112  \n",
       "min            25100.000000                     0.500000  \n",
       "25%           212500.000000                     0.900000  \n",
       "50%           262000.000000                     1.100000  \n",
       "75%           303500.000000                     1.400000  \n",
       "max           377000.000000                     2.100000  "
      ]
     },
     "execution_count": 6,
     "metadata": {},
     "output_type": "execute_result"
    }
   ],
   "source": [
    "# Check for outliers in the winsorized variables\n",
    "heart[['winsorized_creatinine_phosphokinase', 'winsorized_ejection_fraction', \n",
    "       'winsorized_platelets', 'winsorized_serum_creatinine']].describe()"
   ]
  },
  {
   "cell_type": "markdown",
   "id": "treated-journey",
   "metadata": {
    "papermill": {
     "duration": 0.024068,
     "end_time": "2021-07-01T20:23:23.839379",
     "exception": false,
     "start_time": "2021-07-01T20:23:23.815311",
     "status": "completed"
    },
    "tags": []
   },
   "source": [
    "This is much more workable than previously, so we can proceed further to the feature engineering phase. First, we'll examine the number of unique entries per variable to get a better sense of the dataset.\n"
   ]
  },
  {
   "cell_type": "code",
   "execution_count": 7,
   "id": "prescribed-sequence",
   "metadata": {
    "execution": {
     "iopub.execute_input": "2021-07-01T20:23:23.899392Z",
     "iopub.status.busy": "2021-07-01T20:23:23.898424Z",
     "iopub.status.idle": "2021-07-01T20:23:23.903835Z",
     "shell.execute_reply": "2021-07-01T20:23:23.904286Z",
     "shell.execute_reply.started": "2021-07-01T16:14:14.659280Z"
    },
    "papermill": {
     "duration": 0.041099,
     "end_time": "2021-07-01T20:23:23.904461",
     "exception": false,
     "start_time": "2021-07-01T20:23:23.863362",
     "status": "completed"
    },
    "tags": []
   },
   "outputs": [
    {
     "name": "stdout",
     "output_type": "stream",
     "text": [
      "Number of unique values for age:  47\n",
      "Number of unique values for anaemia:  2\n",
      "Number of unique values for diabetes:  2\n",
      "Number of unique values for high_blood_pressure:  2\n",
      "Number of unique values for serum_sodium:  27\n",
      "Number of unique values for sex:  2\n",
      "Number of unique values for smoking:  2\n",
      "Number of unique values for time:  148\n",
      "Number of unique values for DEATH_EVENT:  2\n",
      "Number of unique values for winsorized_creatinine_phosphokinase:  179\n",
      "Number of unique values for winsorized_ejection_fraction:  13\n",
      "Number of unique values for winsorized_platelets:  152\n",
      "Number of unique values for winsorized_serum_creatinine:  20\n"
     ]
    }
   ],
   "source": [
    "# Compute the number of unique values for each variable\n",
    "\n",
    "for column in heart.columns.drop(['creatinine_phosphokinase', 'ejection_fraction', 'platelets', 'serum_creatinine']):\n",
    "    \n",
    "    print(\"Number of unique values for {}: \".format(column), heart[column].nunique())"
   ]
  },
  {
   "cell_type": "markdown",
   "id": "controlled-parallel",
   "metadata": {
    "papermill": {
     "duration": 0.023972,
     "end_time": "2021-07-01T20:23:23.952641",
     "exception": false,
     "start_time": "2021-07-01T20:23:23.928669",
     "status": "completed"
    },
    "tags": []
   },
   "source": [
    "The following variables are binary: `anaemia`, `diabetes`, `high_blood_pressure`, `sex`,`smoking`, and our target variable `DEATH_EVENT`. This implies that we will be utilizing classification models to make predictions. In particular, we will most likely utilize support vector machines and boosting models. There is a possibility of training a random forest classifier, although this would require additional feature engineering to convert the continuous variables into a suitable form for the random forest classifier."
   ]
  },
  {
   "cell_type": "code",
   "execution_count": 8,
   "id": "american-dragon",
   "metadata": {
    "execution": {
     "iopub.execute_input": "2021-07-01T20:23:24.010160Z",
     "iopub.status.busy": "2021-07-01T20:23:24.009185Z",
     "iopub.status.idle": "2021-07-01T20:23:24.013691Z",
     "shell.execute_reply": "2021-07-01T20:23:24.013092Z",
     "shell.execute_reply.started": "2021-07-01T16:14:17.521073Z"
    },
    "papermill": {
     "duration": 0.036662,
     "end_time": "2021-07-01T20:23:24.013869",
     "exception": false,
     "start_time": "2021-07-01T20:23:23.977207",
     "status": "completed"
    },
    "tags": []
   },
   "outputs": [
    {
     "data": {
      "text/plain": [
       "0    203\n",
       "1     96\n",
       "Name: DEATH_EVENT, dtype: int64"
      ]
     },
     "execution_count": 8,
     "metadata": {},
     "output_type": "execute_result"
    }
   ],
   "source": [
    "# Check the dataset for class imbalance (or balance)\n",
    "\n",
    "heart['DEATH_EVENT'].value_counts()"
   ]
  },
  {
   "cell_type": "markdown",
   "id": "welsh-chile",
   "metadata": {
    "papermill": {
     "duration": 0.02445,
     "end_time": "2021-07-01T20:23:24.063233",
     "exception": false,
     "start_time": "2021-07-01T20:23:24.038783",
     "status": "completed"
    },
    "tags": []
   },
   "source": [
    "As the above demonstrates, the dataset exhibits class imbalance, which we will need to address. There are two approaches we can utilize:\n",
    "\n",
    "1. We oversample the minority class by creating more synthetic data (for the minority class) to match the majority class\n",
    "\n",
    "2. We undersample the majority class by removing data from the majority class to match the minority class\n",
    "\n",
    "Of the two approaches, we will opt for the former, as our dataset is relatively small; removal of data may affect the performance of any model we build"
   ]
  },
  {
   "cell_type": "code",
   "execution_count": 9,
   "id": "graphic-depth",
   "metadata": {
    "execution": {
     "iopub.execute_input": "2021-07-01T20:23:24.120311Z",
     "iopub.status.busy": "2021-07-01T20:23:24.119524Z",
     "iopub.status.idle": "2021-07-01T20:23:24.253988Z",
     "shell.execute_reply": "2021-07-01T20:23:24.253183Z",
     "shell.execute_reply.started": "2021-07-01T16:14:19.951966Z"
    },
    "papermill": {
     "duration": 0.165487,
     "end_time": "2021-07-01T20:23:24.254161",
     "exception": false,
     "start_time": "2021-07-01T20:23:24.088674",
     "status": "completed"
    },
    "tags": []
   },
   "outputs": [],
   "source": [
    "# Oversample the minority class\n",
    "\n",
    "from sklearn.utils import resample\n",
    "\n",
    "Ones = heart[heart.DEATH_EVENT == 1]\n",
    "Zeroes = heart[heart.DEATH_EVENT == 0]\n",
    "\n",
    "Ones_upsample = resample(Ones, replace = True,\n",
    "                          n_samples = len(Zeroes),\n",
    "                          random_state = 31)\n",
    "\n",
    "heart = pd.concat([Zeroes, Ones_upsample])"
   ]
  },
  {
   "cell_type": "code",
   "execution_count": 10,
   "id": "exceptional-coupon",
   "metadata": {
    "execution": {
     "iopub.execute_input": "2021-07-01T20:23:24.311049Z",
     "iopub.status.busy": "2021-07-01T20:23:24.310357Z",
     "iopub.status.idle": "2021-07-01T20:23:24.313049Z",
     "shell.execute_reply": "2021-07-01T20:23:24.313482Z",
     "shell.execute_reply.started": "2021-07-01T16:14:23.123101Z"
    },
    "papermill": {
     "duration": 0.034349,
     "end_time": "2021-07-01T20:23:24.313665",
     "exception": false,
     "start_time": "2021-07-01T20:23:24.279316",
     "status": "completed"
    },
    "tags": []
   },
   "outputs": [
    {
     "data": {
      "text/plain": [
       "0    203\n",
       "1    203\n",
       "Name: DEATH_EVENT, dtype: int64"
      ]
     },
     "execution_count": 10,
     "metadata": {},
     "output_type": "execute_result"
    }
   ],
   "source": [
    "# Re-examine the `DEATH_EVENTS` column\n",
    "heart.DEATH_EVENT.value_counts()"
   ]
  },
  {
   "cell_type": "markdown",
   "id": "sharing-aquarium",
   "metadata": {
    "papermill": {
     "duration": 0.024484,
     "end_time": "2021-07-01T20:23:24.363028",
     "exception": false,
     "start_time": "2021-07-01T20:23:24.338544",
     "status": "completed"
    },
    "tags": []
   },
   "source": [
    "Now the number of zero and one class equal. We can now train our classification models, compare them to select the most accurate base model, and then tune that model's hyperparameters to increase accuracy and hopefully minimize false negatives as this is a heart failure classification (and risk prediction) problem"
   ]
  },
  {
   "cell_type": "code",
   "execution_count": 11,
   "id": "younger-music",
   "metadata": {
    "execution": {
     "iopub.execute_input": "2021-07-01T20:23:24.416070Z",
     "iopub.status.busy": "2021-07-01T20:23:24.415398Z",
     "iopub.status.idle": "2021-07-01T20:23:24.785679Z",
     "shell.execute_reply": "2021-07-01T20:23:24.784969Z",
     "shell.execute_reply.started": "2021-07-01T16:14:28.119973Z"
    },
    "papermill": {
     "duration": 0.398115,
     "end_time": "2021-07-01T20:23:24.785850",
     "exception": false,
     "start_time": "2021-07-01T20:23:24.387735",
     "status": "completed"
    },
    "tags": []
   },
   "outputs": [],
   "source": [
    "# Import sklearn models and performance metrics\n",
    "\n",
    "from sklearn.model_selection import train_test_split, cross_val_score\n",
    "from sklearn.metrics import accuracy_score, precision_score, recall_score, confusion_matrix, mean_absolute_error\n",
    "from statsmodels.tools.eval_measures import mse, rmse\n",
    "\n",
    "from sklearn import ensemble\n",
    "from sklearn.neighbors import KNeighborsClassifier\n",
    "from sklearn.svm import SVC\n",
    "\n",
    "# Drop the original columns that we winsorized previously\n",
    "\n",
    "heart = heart.drop(['creatinine_phosphokinase', 'ejection_fraction', 'platelets', 'serum_creatinine'], axis = 1)"
   ]
  },
  {
   "cell_type": "markdown",
   "id": "divine-eating",
   "metadata": {
    "papermill": {
     "duration": 0.024534,
     "end_time": "2021-07-01T20:23:24.836083",
     "exception": false,
     "start_time": "2021-07-01T20:23:24.811549",
     "status": "completed"
    },
    "tags": []
   },
   "source": [
    "The first model we'll train is a K Nearest-Neighbors model, but first, we must split the data into training and test sets."
   ]
  },
  {
   "cell_type": "code",
   "execution_count": 12,
   "id": "fourth-improvement",
   "metadata": {
    "execution": {
     "iopub.execute_input": "2021-07-01T20:23:24.888866Z",
     "iopub.status.busy": "2021-07-01T20:23:24.888218Z",
     "iopub.status.idle": "2021-07-01T20:23:24.896006Z",
     "shell.execute_reply": "2021-07-01T20:23:24.895430Z",
     "shell.execute_reply.started": "2021-07-01T16:14:38.503463Z"
    },
    "papermill": {
     "duration": 0.035289,
     "end_time": "2021-07-01T20:23:24.896153",
     "exception": false,
     "start_time": "2021-07-01T20:23:24.860864",
     "status": "completed"
    },
    "tags": []
   },
   "outputs": [],
   "source": [
    "# Split the data into training and test sets, with a test-set size of 30 percent\n",
    "\n",
    "X = heart.drop('DEATH_EVENT', axis = 1)\n",
    "Y = heart.DEATH_EVENT\n",
    "\n",
    "X_train, X_test, y_train, y_test = train_test_split(X, Y, test_size = 0.3, random_state = 131)"
   ]
  },
  {
   "cell_type": "code",
   "execution_count": 13,
   "id": "detailed-equation",
   "metadata": {
    "execution": {
     "iopub.execute_input": "2021-07-01T20:23:24.949906Z",
     "iopub.status.busy": "2021-07-01T20:23:24.948946Z",
     "iopub.status.idle": "2021-07-01T20:23:24.970119Z",
     "shell.execute_reply": "2021-07-01T20:23:24.970659Z",
     "shell.execute_reply.started": "2021-07-01T16:14:59.360107Z"
    },
    "papermill": {
     "duration": 0.049357,
     "end_time": "2021-07-01T20:23:24.970852",
     "exception": false,
     "start_time": "2021-07-01T20:23:24.921495",
     "status": "completed"
    },
    "tags": []
   },
   "outputs": [
    {
     "name": "stdout",
     "output_type": "stream",
     "text": [
      " Accuracy score: 0.5163934426229508 \n",
      " Precision score: 0.5625 \n",
      " Recall score: 0.5373134328358209\n"
     ]
    }
   ],
   "source": [
    "# Fit the model \n",
    "knn = KNeighborsClassifier(n_neighbors = 5)\n",
    "knn.fit(X_train, y_train)\n",
    "\n",
    "# Make predictions with the model\n",
    "y_pred_knn = knn.predict(X_test)\n",
    "\n",
    "# Print accuracy, precision, and recall scores for the model \n",
    "acc_knn = accuracy_score(y_test, y_pred_knn)\n",
    "pre_knn = precision_score(y_test, y_pred_knn)\n",
    "recall_knn = recall_score(y_test, y_pred_knn)\n",
    "print(\" Accuracy score: {} \\n\".format(acc_knn), \n",
    "      \"Precision score: {} \\n\".format(pre_knn),\n",
    "      \"Recall score: {}\".format(recall_knn))"
   ]
  },
  {
   "cell_type": "code",
   "execution_count": 14,
   "id": "designing-magnitude",
   "metadata": {
    "execution": {
     "iopub.execute_input": "2021-07-01T20:23:25.029336Z",
     "iopub.status.busy": "2021-07-01T20:23:25.028406Z",
     "iopub.status.idle": "2021-07-01T20:23:25.031695Z",
     "shell.execute_reply": "2021-07-01T20:23:25.032405Z",
     "shell.execute_reply.started": "2021-07-01T16:15:05.086514Z"
    },
    "papermill": {
     "duration": 0.036409,
     "end_time": "2021-07-01T20:23:25.032621",
     "exception": false,
     "start_time": "2021-07-01T20:23:24.996212",
     "status": "completed"
    },
    "tags": []
   },
   "outputs": [
    {
     "name": "stdout",
     "output_type": "stream",
     "text": [
      "[[27 28]\n",
      " [31 36]]\n"
     ]
    }
   ],
   "source": [
    "# Print a confusion matrix for the above model\n",
    "print(confusion_matrix(y_test, y_pred_knn))"
   ]
  },
  {
   "cell_type": "markdown",
   "id": "lesser-batman",
   "metadata": {
    "papermill": {
     "duration": 0.024949,
     "end_time": "2021-07-01T20:23:25.084120",
     "exception": false,
     "start_time": "2021-07-01T20:23:25.059171",
     "status": "completed"
    },
    "tags": []
   },
   "source": [
    "This isn't necessarily a great model, but we have a baseline that we can compare to other models going forward. Next, we will build a baseline Random Forest Classifier."
   ]
  },
  {
   "cell_type": "code",
   "execution_count": 15,
   "id": "unavailable-antarctica",
   "metadata": {
    "execution": {
     "iopub.execute_input": "2021-07-01T20:23:25.154257Z",
     "iopub.status.busy": "2021-07-01T20:23:25.149015Z",
     "iopub.status.idle": "2021-07-01T20:23:26.357462Z",
     "shell.execute_reply": "2021-07-01T20:23:26.356912Z",
     "shell.execute_reply.started": "2021-07-01T16:39:21.531217Z"
    },
    "papermill": {
     "duration": 1.248019,
     "end_time": "2021-07-01T20:23:26.357615",
     "exception": false,
     "start_time": "2021-07-01T20:23:25.109596",
     "status": "completed"
    },
    "tags": []
   },
   "outputs": [
    {
     "name": "stdout",
     "output_type": "stream",
     "text": [
      "[0.9122807  0.85964912 0.94736842 0.94736842 0.89285714]\n",
      " Accuracy score: 0.9016393442622951 \n",
      " Precision score: 0.8985507246376812 \n",
      " Recall score: 0.9253731343283582\n"
     ]
    }
   ],
   "source": [
    "# Instantiate a Random Forest classifier\n",
    "rfc = ensemble.RandomForestClassifier()\n",
    "rfc.fit(X_train, y_train)\n",
    "\n",
    "# Print the cross-validation (5-fold) score \n",
    "print(cross_val_score(rfc, X_train, y_train, cv = 5))\n",
    "\n",
    "# Make predictions and then print our performance metrics\n",
    "y_pred_rfc = rfc.predict(X_test)\n",
    "\n",
    "acc_rfc = accuracy_score(y_test, y_pred_rfc)\n",
    "pre_rfc = precision_score(y_test, y_pred_rfc)\n",
    "recall_rfc = recall_score(y_test, y_pred_rfc)\n",
    "print(\" Accuracy score: {} \\n\".format(acc_rfc), \n",
    "      \"Precision score: {} \\n\".format(pre_rfc),\n",
    "      \"Recall score: {}\".format(recall_rfc))"
   ]
  },
  {
   "cell_type": "markdown",
   "id": "intellectual-blackberry",
   "metadata": {
    "papermill": {
     "duration": 0.02709,
     "end_time": "2021-07-01T20:23:26.411040",
     "exception": false,
     "start_time": "2021-07-01T20:23:26.383950",
     "status": "completed"
    },
    "tags": []
   },
   "source": [
    "This is a great start to a baseline Random forest model that we can tune even further to improve performance. Next, we can move on to building an SVM classifier"
   ]
  },
  {
   "cell_type": "code",
   "execution_count": 16,
   "id": "metropolitan-natural",
   "metadata": {
    "execution": {
     "iopub.execute_input": "2021-07-01T20:23:26.472835Z",
     "iopub.status.busy": "2021-07-01T20:23:26.472127Z",
     "iopub.status.idle": "2021-07-01T20:23:26.537572Z",
     "shell.execute_reply": "2021-07-01T20:23:26.537008Z",
     "shell.execute_reply.started": "2021-07-01T17:50:33.417426Z"
    },
    "papermill": {
     "duration": 0.100411,
     "end_time": "2021-07-01T20:23:26.537730",
     "exception": false,
     "start_time": "2021-07-01T20:23:26.437319",
     "status": "completed"
    },
    "tags": []
   },
   "outputs": [
    {
     "name": "stdout",
     "output_type": "stream",
     "text": [
      "[0.59649123 0.52631579 0.61403509 0.57894737 0.58928571]\n",
      " Accuracy score: 0.45901639344262296 \n",
      " Precision score: 0.5238095238095238 \n",
      " Recall score: 0.16417910447761194\n"
     ]
    }
   ],
   "source": [
    "# Build an SVM classifier\n",
    "svc = SVC()\n",
    "svc.fit(X_train, y_train)\n",
    "\n",
    "# Print the cross-validation (5-fold) score of the training set\n",
    "print(cross_val_score(svc, X_train, y_train, cv = 5))\n",
    "\n",
    "# Make predictions and then print performance metrics\n",
    "y_pred_svc = svc.predict(X_test)\n",
    "\n",
    "acc_svc = accuracy_score(y_test, y_pred_svc)\n",
    "pre_svc = precision_score(y_test, y_pred_svc)\n",
    "recall_svc = recall_score(y_test, y_pred_svc)\n",
    "print(\" Accuracy score: {} \\n\".format(acc_svc), \n",
    "      \"Precision score: {} \\n\".format(pre_svc),\n",
    "      \"Recall score: {}\".format(recall_svc))"
   ]
  },
  {
   "cell_type": "markdown",
   "id": "further-hypothetical",
   "metadata": {
    "papermill": {
     "duration": 0.026333,
     "end_time": "2021-07-01T20:23:26.591074",
     "exception": false,
     "start_time": "2021-07-01T20:23:26.564741",
     "status": "completed"
    },
    "tags": []
   },
   "source": [
    "Well, this is somewhat disappointing. We'll proceed to building a boosting classifier."
   ]
  },
  {
   "cell_type": "code",
   "execution_count": 17,
   "id": "conscious-drain",
   "metadata": {
    "execution": {
     "iopub.execute_input": "2021-07-01T20:23:26.653900Z",
     "iopub.status.busy": "2021-07-01T20:23:26.653221Z",
     "iopub.status.idle": "2021-07-01T20:23:27.224481Z",
     "shell.execute_reply": "2021-07-01T20:23:27.225027Z",
     "shell.execute_reply.started": "2021-07-01T18:27:16.009770Z"
    },
    "papermill": {
     "duration": 0.607687,
     "end_time": "2021-07-01T20:23:27.225202",
     "exception": false,
     "start_time": "2021-07-01T20:23:26.617515",
     "status": "completed"
    },
    "tags": []
   },
   "outputs": [
    {
     "name": "stdout",
     "output_type": "stream",
     "text": [
      "[0.9122807  0.85964912 0.92982456 0.96491228 0.875     ]\n",
      " Accuracy score: 0.9098360655737705 \n",
      " Precision score: 0.9242424242424242 \n",
      " Recall score: 0.9104477611940298\n"
     ]
    }
   ],
   "source": [
    "# Build and fit a Gradient Boosting classifier with default parameters as a baseline model\n",
    "gbc = ensemble.GradientBoostingClassifier()\n",
    "gbc.fit(X_train, y_train)\n",
    "\n",
    "# Print cross-validation (5-fold) score for the training set\n",
    "print(cross_val_score(gbc, X_train, y_train, cv = 5))\n",
    "\n",
    "# Make predictions and then print performance metrics\n",
    "y_pred_gb = gbc.predict(X_test)\n",
    "\n",
    "acc_gb = accuracy_score(y_test, y_pred_gb)\n",
    "pre_gb = precision_score(y_test, y_pred_gb)\n",
    "recall_gb = recall_score(y_test, y_pred_gb)\n",
    "print(\" Accuracy score: {} \\n\".format(acc_gb), \n",
    "      \"Precision score: {} \\n\".format(pre_gb),\n",
    "      \"Recall score: {}\".format(recall_gb))"
   ]
  },
  {
   "cell_type": "markdown",
   "id": "subject-insert",
   "metadata": {
    "papermill": {
     "duration": 0.026731,
     "end_time": "2021-07-01T20:23:27.279429",
     "exception": false,
     "start_time": "2021-07-01T20:23:27.252698",
     "status": "completed"
    },
    "tags": []
   },
   "source": [
    "Similar to the random forest classifier we trained earlier, this too is a great baseline model that we can tune the hyperparameters and improve upon. Going forward, we can compare the random forest and the gradient boosting after tuning their respective hyperparameters. An argument can be made that we should go forward solely with the random forest classifier for this problem, as it pertains to heart failure classification and thus we would prefer higher precision and recall scores to maximize the percentage of correct positive classifications and minimizing the percentage of false negative classifications. On this note, we can print out the confusion matrices to better evaluate which model minimizes false negative classifications."
   ]
  },
  {
   "cell_type": "code",
   "execution_count": 18,
   "id": "above-shame",
   "metadata": {
    "execution": {
     "iopub.execute_input": "2021-07-01T20:23:27.339885Z",
     "iopub.status.busy": "2021-07-01T20:23:27.339062Z",
     "iopub.status.idle": "2021-07-01T20:23:27.976062Z",
     "shell.execute_reply": "2021-07-01T20:23:27.975421Z",
     "shell.execute_reply.started": "2021-07-01T19:49:25.247593Z"
    },
    "papermill": {
     "duration": 0.670079,
     "end_time": "2021-07-01T20:23:27.976214",
     "exception": false,
     "start_time": "2021-07-01T20:23:27.306135",
     "status": "completed"
    },
    "tags": []
   },
   "outputs": [
    {
     "data": {
      "image/png": "[encoded data removed]",
      "text/plain": [
       "<Figure size 1080x720 with 4 Axes>"
      ]
     },
     "metadata": {
      "needs_background": "light"
     },
     "output_type": "display_data"
    }
   ],
   "source": [
    "# Output confusion matrices for the random forest and gradient boosting baseline models\n",
    "import seaborn as sns\n",
    "\n",
    "confusion_rf = confusion_matrix(y_test, y_pred_rfc)\n",
    "confusion_gb = confusion_matrix(y_test, y_pred_gb)\n",
    "\n",
    "plt.figure(figsize = (15,10))\n",
    "\n",
    "plt.subplot(1,2,1)\n",
    "sns.heatmap(confusion_rf, annot = True, cmap=\"YlGnBu\")\n",
    "plt.title(\"Confusion Matrix: Random Forest\")\n",
    "\n",
    "plt.subplot(1,2,2)\n",
    "sns.heatmap(confusion_gb, annot = True)\n",
    "plt.title(\"Confusion Matrix: Gradient Boosting\")\n",
    "\n",
    "plt.tight_layout()\n",
    "plt.show()"
   ]
  },
  {
   "cell_type": "markdown",
   "id": "tropical-summit",
   "metadata": {
    "papermill": {
     "duration": 0.029006,
     "end_time": "2021-07-01T20:23:28.047067",
     "exception": false,
     "start_time": "2021-07-01T20:23:28.018061",
     "status": "completed"
    },
    "tags": []
   },
   "source": [
    "Based upon the above confusion matrices, the two methods are fairly similar, however, the random forest classifier does possess fewer false negative classifications than the gradient boosting classifier. Hence, we will proceed with the former method for our model and tune its hyperparameters. "
   ]
  },
  {
   "cell_type": "code",
   "execution_count": null,
   "id": "accepting-fleet",
   "metadata": {
    "papermill": {
     "duration": 0.027316,
     "end_time": "2021-07-01T20:23:28.101918",
     "exception": false,
     "start_time": "2021-07-01T20:23:28.074602",
     "status": "completed"
    },
    "tags": []
   },
   "outputs": [],
   "source": []
  }
 ],
 "metadata": {
  "kernelspec": {
   "display_name": "Python 3",
   "language": "python",
   "name": "python3"
  },
  "language_info": {
   "codemirror_mode": {
    "name": "ipython",
    "version": 3
   },
   "file_extension": ".py",
   "mimetype": "text/x-python",
   "name": "python",
   "nbconvert_exporter": "python",
   "pygments_lexer": "ipython3",
   "version": "3.7.10"
  },
  "papermill": {
   "default_parameters": {},
   "duration": 14.482753,
   "end_time": "2021-07-01T20:23:28.839958",
   "environment_variables": {},
   "exception": null,
   "input_path": "__notebook__.ipynb",
   "output_path": "__notebook__.ipynb",
   "parameters": {},
   "start_time": "2021-07-01T20:23:14.357205",
   "version": "2.3.3"
  }
 },
 "nbformat": 4,
 "nbformat_minor": 5
}
